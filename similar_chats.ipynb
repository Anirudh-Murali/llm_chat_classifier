{
 "cells": [
  {
   "cell_type": "code",
   "execution_count": 1,
   "id": "0a5eefe1-4f8e-4f65-9aa1-77466c8457d4",
   "metadata": {},
   "outputs": [],
   "source": [
    "# import classes\n",
    "from classes.QuerySimilaritySearch import QuerySimilaritySearch\n",
    "from classes.OpenaiConnector import OpenaiConnector\n",
    "from classes.ChatSimilarity import ChatSimilarity"
   ]
  },
  {
   "cell_type": "code",
   "execution_count": 2,
   "id": "0ebe5432-ed97-4d85-b0f2-d41e284881ba",
   "metadata": {},
   "outputs": [],
   "source": [
    "openai_api_key = #Enter your API Key"
   ]
  },
  {
   "cell_type": "code",
   "execution_count": 3,
   "id": "c2e49868-62c2-400c-851a-945583038526",
   "metadata": {},
   "outputs": [],
   "source": [
    "chat_similarity = ChatSimilarity(\n",
    "                    \"data/chat_data/conversations.json\",\n",
    "                      openai_api_key,)"
   ]
  },
  {
   "cell_type": "markdown",
   "id": "83aa312a-750d-4130-8f85-463b3e408116",
   "metadata": {},
   "source": [
    "### Index Generation"
   ]
  },
  {
   "cell_type": "code",
   "execution_count": 4,
   "id": "f15861fd-9119-4101-b2d2-57d8680ae391",
   "metadata": {},
   "outputs": [
    {
     "data": {
      "application/vnd.jupyter.widget-view+json": {
       "model_id": "47b4502392604afeb98586c0e51aff4e",
       "version_major": 2,
       "version_minor": 0
      },
      "text/plain": [
       "  0%|          | 0/8 [00:00<?, ?it/s]"
      ]
     },
     "metadata": {},
     "output_type": "display_data"
    }
   ],
   "source": [
    "# Generate similar queries and embeddings for the supplied chats\n",
    "chat_similarity.generate_similar_queries() #this function takes a few mins to run\n",
    "# import copy\n",
    "# chat_thread_similar_queries = copy.deepcopy(chat_similarity.chat_thread_similar_queries)\n",
    "# chat_similarity.chat_thread_similar_queries = copy.deepcopy(chat_thread_similar_queries)"
   ]
  },
  {
   "cell_type": "code",
   "execution_count": 5,
   "id": "9eb15873-c590-4719-a93b-e4dd8c599cb0",
   "metadata": {},
   "outputs": [
    {
     "data": {
      "text/plain": [
       "dict_keys(['International Travel', 'Nas Top Tracks', \"Backpacking in India's Beauty\", 'Movie Recommendations Assistant', 'Help Find Missing Beagle', 'Center Aligned Table', 'Resume Modification - Consulting/Marketing', 'Cover Letter Assistance Request'])"
      ]
     },
     "execution_count": 5,
     "metadata": {},
     "output_type": "execute_result"
    }
   ],
   "source": [
    "# let us look at the chat threads\n",
    "chat_similarity.chat_thread_similar_queries.keys()"
   ]
  },
  {
   "cell_type": "code",
   "execution_count": 6,
   "id": "2031957a-5fb3-488a-9607-8cb99ad2e07e",
   "metadata": {},
   "outputs": [
    {
     "data": {
      "text/plain": [
       "['Are there any trekking options in and around Manali?',\n",
       " 'Can you suggest some must-see monasteries in McLeod Ganj?',\n",
       " \"I'm interested in trying white-water rafting, where would you recommend?\",\n",
       " 'Could you suggest any hidden gems in Rishikesh that are off the beaten path?',\n",
       " 'What are some unique experiences in Pushkar during the Camel Fair?',\n",
       " 'Do you have any tips for first-time skiers at Auli?',\n",
       " 'Could I add any other destinations to this itinerary for a longer trip?',\n",
       " 'How would you suggest getting from one location to the other? Trains or buses?',\n",
       " \"I'm looking for budget-friendly accommodation options, do you have\",\n",
       " 'Can you suggest some offbeat locations in North, South, and East India for a 10-day trip?',\n",
       " 'Are there any lesser-explored areas in Himachal Pradesh that are worth visiting?',\n",
       " 'How does the backpacker culture differ in Rishikesh and Dharamshala?',\n",
       " \"I'm interested in nature-centric activities like hiking and trekking. Any suggestions?\",\n",
       " 'Are there any cultural events or festivals happening during November in India?',\n",
       " 'What is the best way to commute between these different locations within the 10-day timeframe?',\n",
       " 'Could you recommend any eco-friendly accommodation options in Auli and McLeod Ganj?',\n",
       " \"I'm a solo traveler and looking for budget-friendly options\",\n",
       " 'Are there any lesser-known natural gems in North India worth exploring?',\n",
       " 'I am looking for a place with breathtaking landscapes and a hippie vibe, any suggestions?',\n",
       " 'Considering your dislike for touristy areas, are there any hidden natural beauties you recommend?',\n",
       " 'Are there trekking options in North India for beginners?',\n",
       " 'Could you recommend less crowded alternatives to these popular destinations?',\n",
       " 'How do I go about booking domestic flights in India?',\n",
       " \"I'm interested in visiting lesser-known islands in India, any suggestions for a 10-day trip?\",\n",
       " 'Can you suggest any offbeat adventure activities in India?',\n",
       " 'What safety measures should I consider while traveling to these places?',\n",
       " 'Which places offer the',\n",
       " 'model_response:',\n",
       " 'Can you recommend a good itinerary for 10 days in India with a mix of natural beauty and backpacker vibe?',\n",
       " 'Which destinations in India offer stunning natural beauty and a budding backpacker culture?',\n",
       " 'Which regions of India do you suggest for a trip that covers a mix of natural beauty and cultural experiences?',\n",
       " \"Any specific activities or experiences that I shouldn't miss out on in the suggested destinations?\",\n",
       " \"I've heard about the spiritual and backpacker atmosphere in Rishikesh. Can you tell me more about it?\",\n",
       " 'Are there any wellness or yoga retreats that you recommend in the suggested destinations?',\n",
       " \"What's the best way to travel between these destinations?\",\n",
       " 'Are there any',\n",
       " 'Are there any other destinations in India that are ideal for backpackers and have stunning natural landscapes?',\n",
       " 'Tell me more about the backpacker culture in Rishikesh and Haridwar.',\n",
       " 'What activities can I do in Pushkar during the Pushkar Camel Fair?',\n",
       " 'Can you suggest a trek in the Himalayas that would take me through some stunning natural beauty?',\n",
       " \"I'm looking for a mix of spiritual experiences and natural beauty. Any suggestions?\",\n",
       " \"What's a must-do in Dharamshala and McLeod Ganj?\",\n",
       " 'Please recommend a scenic destination near a lake or river that also has a thriving backpacker scene.',\n",
       " 'Would you recommend any wildlife sanctuaries or national parks']"
      ]
     },
     "execution_count": 6,
     "metadata": {},
     "output_type": "execute_result"
    }
   ],
   "source": [
    "# queries for backpacking in India\n",
    "chat_similarity.chat_thread_similar_queries['Backpacking in India\\'s Beauty']['queries']"
   ]
  },
  {
   "cell_type": "markdown",
   "id": "8d5eb459-c3c5-42d3-8880-2621ade36c14",
   "metadata": {},
   "source": []
  },
  {
   "cell_type": "code",
   "execution_count": 7,
   "id": "883e3f8a-fd5a-494a-aa14-aba052827539",
   "metadata": {},
   "outputs": [
    {
     "data": {
      "application/vnd.jupyter.widget-view+json": {
       "model_id": "ad2f835c78a64fd88bdfae8a01bfef6a",
       "version_major": 2,
       "version_minor": 0
      },
      "text/plain": [
       "  0%|          | 0/8 [00:00<?, ?it/s]"
      ]
     },
     "metadata": {},
     "output_type": "display_data"
    }
   ],
   "source": [
    "# now that the embeddings have been generated, we need to prepare it to be fed to FAISS\n",
    "chat_similarity.prepare_embeddings_for_faiss()"
   ]
  },
  {
   "cell_type": "code",
   "execution_count": 8,
   "id": "0a805f1a-791f-4492-91bb-6fc523dfa284",
   "metadata": {},
   "outputs": [],
   "source": [
    "# Create a vector DB for similar queries using FAISS\n",
    "faiss_index = QuerySimilaritySearch(chat_similarity.embedding_matrix,chat_similarity.index_mapping,'cosine_similarity')\n",
    "# going with a flat cosine-similarity index. Can switch to hnsw when required "
   ]
  },
  {
   "cell_type": "markdown",
   "id": "b090d6cf-eeb2-449b-9ea5-95ba2fcaae7c",
   "metadata": {},
   "source": [
    "### Testing"
   ]
  },
  {
   "cell_type": "markdown",
   "id": "1147f77f-f679-4212-a199-1fcd810b355e",
   "metadata": {},
   "source": [
    "The following cells will test the model's predictions. Please note a line is printed before retuning the chat-thread.\n",
    "This line informs the user how many candidates were returned by the high recall model, before sending it to the high precision model"
   ]
  },
  {
   "cell_type": "code",
   "execution_count": 9,
   "id": "0181b304-ceb4-4ad4-829b-a54d87eba297",
   "metadata": {},
   "outputs": [
    {
     "name": "stdout",
     "output_type": "stream",
     "text": [
      "Movie Recommendations Assistant is the single candidate\n"
     ]
    },
    {
     "data": {
      "text/plain": [
       "'Movie Recommendations Assistant'"
      ]
     },
     "execution_count": 9,
     "metadata": {},
     "output_type": "execute_result"
    }
   ],
   "source": [
    "user_query = '''I want to watch a movie tonight''' # Expected Output : Movie Recommendations Assistant\n",
    "similar_chat_titles = chat_similarity.get_similar_chats(user_query,faiss_index)\n",
    "chat_similarity.return_most_similar_chat(user_query,similar_chat_titles)"
   ]
  },
  {
   "cell_type": "code",
   "execution_count": 10,
   "id": "53f9f972-de37-4537-8856-155e1d0a1280",
   "metadata": {},
   "outputs": [
    {
     "name": "stdout",
     "output_type": "stream",
     "text": [
      "multiple candidate : [\"Backpacking in India's Beauty\", 'International Travel']\n"
     ]
    },
    {
     "data": {
      "application/vnd.jupyter.widget-view+json": {
       "model_id": "2b76d1a9927e461eb7bc677707b4e5d6",
       "version_major": 2,
       "version_minor": 0
      },
      "text/plain": [
       "  0%|          | 0/2 [00:00<?, ?it/s]"
      ]
     },
     "metadata": {},
     "output_type": "display_data"
    },
    {
     "data": {
      "text/plain": [
       "\"Backpacking in India's Beauty\""
      ]
     },
     "execution_count": 10,
     "metadata": {},
     "output_type": "execute_result"
    }
   ],
   "source": [
    "user_query = '''Help me plan a trip''' # Expected Output : Backpacking in India's Beauty\n",
    "similar_chat_titles = chat_similarity.get_similar_chats(user_query,faiss_index)\n",
    "chat_similarity.return_most_similar_chat(user_query,similar_chat_titles)"
   ]
  },
  {
   "cell_type": "code",
   "execution_count": 11,
   "id": "e37261db-7c72-4ab2-8079-444abfc8135d",
   "metadata": {},
   "outputs": [
    {
     "name": "stdout",
     "output_type": "stream",
     "text": [
      "multiple candidate : [\"Backpacking in India's Beauty\", 'International Travel']\n"
     ]
    },
    {
     "data": {
      "application/vnd.jupyter.widget-view+json": {
       "model_id": "190ab995dc9145458bb5e0ae20e58398",
       "version_major": 2,
       "version_minor": 0
      },
      "text/plain": [
       "  0%|          | 0/2 [00:00<?, ?it/s]"
      ]
     },
     "metadata": {},
     "output_type": "display_data"
    },
    {
     "data": {
      "text/plain": [
       "'International Travel'"
      ]
     },
     "execution_count": 11,
     "metadata": {},
     "output_type": "execute_result"
    }
   ],
   "source": [
    "user_query = '''Help me plan an international trip''' # Expected Output : International Travel\n",
    "similar_chat_titles = chat_similarity.get_similar_chats(user_query,faiss_index)\n",
    "chat_similarity.return_most_similar_chat(user_query,similar_chat_titles)"
   ]
  },
  {
   "cell_type": "code",
   "execution_count": 12,
   "id": "78141085-f4b8-48d0-bc7d-1776c7a696f9",
   "metadata": {},
   "outputs": [
    {
     "name": "stdout",
     "output_type": "stream",
     "text": [
      "multiple candidate : [\"Backpacking in India's Beauty\", 'International Travel']\n"
     ]
    },
    {
     "data": {
      "application/vnd.jupyter.widget-view+json": {
       "model_id": "e45b934abf64445eb1f722cc84d74fa4",
       "version_major": 2,
       "version_minor": 0
      },
      "text/plain": [
       "  0%|          | 0/2 [00:00<?, ?it/s]"
      ]
     },
     "metadata": {},
     "output_type": "display_data"
    },
    {
     "data": {
      "text/plain": [
       "'International Travel'"
      ]
     },
     "execution_count": 12,
     "metadata": {},
     "output_type": "execute_result"
    }
   ],
   "source": [
    "user_query = '''Plan an iteniary for Hungary''' # Expected Output : International Travel\n",
    "similar_chat_titles = chat_similarity.get_similar_chats(user_query,faiss_index)\n",
    "chat_similarity.return_most_similar_chat(user_query,similar_chat_titles)"
   ]
  },
  {
   "cell_type": "code",
   "execution_count": 14,
   "id": "5f954901-a770-4468-ab6f-8b94a184a175",
   "metadata": {},
   "outputs": [
    {
     "name": "stdout",
     "output_type": "stream",
     "text": [
      "multiple candidate : ['Resume Modification - Consulting/Marketing', 'Cover Letter Assistance Request']\n"
     ]
    },
    {
     "data": {
      "application/vnd.jupyter.widget-view+json": {
       "model_id": "2253d228c7fb40d8865c4124b9512b73",
       "version_major": 2,
       "version_minor": 0
      },
      "text/plain": [
       "  0%|          | 0/2 [00:00<?, ?it/s]"
      ]
     },
     "metadata": {},
     "output_type": "display_data"
    },
    {
     "data": {
      "text/plain": [
       "'Resume Modification - Consulting/Marketing'"
      ]
     },
     "execution_count": 14,
     "metadata": {},
     "output_type": "execute_result"
    }
   ],
   "source": [
    "user_query = '''Help me modify my CV''' # expected output: Resume Modification - Consulting/Marketing\n",
    "similar_chat_titles = chat_similarity.get_similar_chats(user_query,faiss_index)\n",
    "chat_similarity.return_most_similar_chat(user_query,similar_chat_titles)"
   ]
  },
  {
   "cell_type": "code",
   "execution_count": 15,
   "id": "63536c62-44dd-4646-910a-954d812495ca",
   "metadata": {},
   "outputs": [
    {
     "name": "stdout",
     "output_type": "stream",
     "text": [
      "multiple candidate : ['Resume Modification - Consulting/Marketing', 'Cover Letter Assistance Request']\n"
     ]
    },
    {
     "data": {
      "application/vnd.jupyter.widget-view+json": {
       "model_id": "5ea6cbb172464d908b969521a918c508",
       "version_major": 2,
       "version_minor": 0
      },
      "text/plain": [
       "  0%|          | 0/2 [00:00<?, ?it/s]"
      ]
     },
     "metadata": {},
     "output_type": "display_data"
    },
    {
     "data": {
      "text/plain": [
       "'Cover Letter Assistance Request'"
      ]
     },
     "execution_count": 15,
     "metadata": {},
     "output_type": "execute_result"
    }
   ],
   "source": [
    "user_query = '''Help me modify my cover letter''' # expected output: Cover Letter Assistance Request\n",
    "similar_chat_titles = chat_similarity.get_similar_chats(user_query,faiss_index)\n",
    "chat_similarity.return_most_similar_chat(user_query,similar_chat_titles)"
   ]
  },
  {
   "cell_type": "code",
   "execution_count": 16,
   "id": "29d75b38-3ce4-43fc-b5a3-1e200fb2f362",
   "metadata": {},
   "outputs": [
    {
     "name": "stdout",
     "output_type": "stream",
     "text": [
      "Help Find Missing Beagle is the single candidate\n"
     ]
    },
    {
     "data": {
      "text/plain": [
       "'Help Find Missing Beagle'"
      ]
     },
     "execution_count": 16,
     "metadata": {},
     "output_type": "execute_result"
    }
   ],
   "source": [
    "user_query = '''My cat is missing since the past week''' # expected output: Help Find Missing Beagle\n",
    "similar_chat_titles = chat_similarity.get_similar_chats(user_query,faiss_index)\n",
    "chat_similarity.return_most_similar_chat(user_query,similar_chat_titles)"
   ]
  },
  {
   "cell_type": "code",
   "execution_count": 17,
   "id": "f17f541a-f036-43ad-8559-44c2b6d979cf",
   "metadata": {},
   "outputs": [
    {
     "name": "stdout",
     "output_type": "stream",
     "text": [
      "Backpacking in India's Beauty is the single candidate\n"
     ]
    },
    {
     "data": {
      "text/plain": [
       "\"Backpacking in India's Beauty\""
      ]
     },
     "execution_count": 17,
     "metadata": {},
     "output_type": "execute_result"
    }
   ],
   "source": [
    "user_query = '''What are the trekking options around bangalore''' # expected output: \"Backpacking in India's Beauty\"\n",
    "similar_chat_titles = chat_similarity.get_similar_chats(user_query,faiss_index)\n",
    "chat_similarity.return_most_similar_chat(user_query,similar_chat_titles)"
   ]
  },
  {
   "cell_type": "code",
   "execution_count": 18,
   "id": "aea67ee1-f414-46fd-83ad-aafde2f4d588",
   "metadata": {},
   "outputs": [
    {
     "name": "stdout",
     "output_type": "stream",
     "text": [
      "Movie Recommendations Assistant is the single candidate\n"
     ]
    },
    {
     "data": {
      "text/plain": [
       "'Movie Recommendations Assistant'"
      ]
     },
     "execution_count": 18,
     "metadata": {},
     "output_type": "execute_result"
    }
   ],
   "source": [
    "user_query = '''I want to play rugby''' # expected output: None\n",
    "similar_chat_titles = chat_similarity.get_similar_chats(user_query,faiss_index)\n",
    "chat_similarity.return_most_similar_chat(user_query,similar_chat_titles)"
   ]
  },
  {
   "cell_type": "code",
   "execution_count": 19,
   "id": "191ec964-5a61-429a-ac15-0d34a3112d45",
   "metadata": {},
   "outputs": [
    {
     "name": "stdout",
     "output_type": "stream",
     "text": [
      "No chat threads are similar\n"
     ]
    },
    {
     "data": {
      "text/plain": [
       "'\\nThis query can be assigned to Center Aligned Table as I was using that thread to create latex tables\\nHowever, as there was no python code anywhere in the thread, the model fails to get this right\\n'"
      ]
     },
     "execution_count": 19,
     "metadata": {},
     "output_type": "execute_result"
    }
   ],
   "source": [
    "user_query = '''Convert the following python function into an equation in latex: \n",
    "                \n",
    "                def quadratic(x,y):\n",
    "                    return x^2 + (2*x*y) + y^2\n",
    "                '''\n",
    "similar_chat_titles = chat_similarity.get_similar_chats(user_query,faiss_index)\n",
    "chat_similarity.return_most_similar_chat(user_query,similar_chat_titles)\n",
    "'''\n",
    "This query can be assigned to Center Aligned Table as I was using that thread to create latex tables\n",
    "However, as there was no python code anywhere in the thread, the model fails to get this right\n",
    "'''"
   ]
  },
  {
   "cell_type": "code",
   "execution_count": 20,
   "id": "b3638e3a-b8f0-487b-9593-3155b1993195",
   "metadata": {},
   "outputs": [
    {
     "name": "stdout",
     "output_type": "stream",
     "text": [
      "Center Aligned Table is the single candidate\n"
     ]
    },
    {
     "data": {
      "text/plain": [
       "'\\nThis query is correctly assigned to  Center Aligned Table as I was using that thread to create latex tables\\n'"
      ]
     },
     "execution_count": 20,
     "metadata": {},
     "output_type": "execute_result"
    }
   ],
   "source": [
    "user_query = '''Format the my equation into latex'''\n",
    "similar_chat_titles = chat_similarity.get_similar_chats(user_query,faiss_index)\n",
    "chat_similarity.return_most_similar_chat(user_query,similar_chat_titles)\n",
    "'''\n",
    "This query is correctly assigned to  Center Aligned Table as I was using that thread to create latex tables\n",
    "'''"
   ]
  },
  {
   "cell_type": "code",
   "execution_count": 22,
   "id": "54061b14-0851-4b74-8e35-dc8dff2ec358",
   "metadata": {},
   "outputs": [
    {
     "name": "stdout",
     "output_type": "stream",
     "text": [
      "multiple candidate : ['International Travel', \"Backpacking in India's Beauty\"]\n"
     ]
    },
    {
     "data": {
      "application/vnd.jupyter.widget-view+json": {
       "model_id": "c94a3a1076f441d889a01877d9cb2e24",
       "version_major": 2,
       "version_minor": 0
      },
      "text/plain": [
       "  0%|          | 0/2 [00:00<?, ?it/s]"
      ]
     },
     "metadata": {},
     "output_type": "display_data"
    },
    {
     "data": {
      "text/plain": [
       "'International Travel'"
      ]
     },
     "execution_count": 22,
     "metadata": {},
     "output_type": "execute_result"
    }
   ],
   "source": [
    "user_query = '''Where should I do my Scuba from? Andamans or Ko Tao\n",
    "                '''\n",
    "similar_chat_titles = chat_similarity.get_similar_chats(user_query,faiss_index)\n",
    "chat_similarity.return_most_similar_chat(user_query,similar_chat_titles)\n",
    "\n",
    "# '''\n",
    "# Expected Output : International Travel. Conflicting between 'International Travel' and Backpacking in India's Beauty\n",
    "# However, it makes sense to classify this under international travel. Another valid response would be None\n",
    "# '''\n"
   ]
  },
  {
   "cell_type": "code",
   "execution_count": 23,
   "id": "1ec1daf9-d852-4070-967b-90b0318382de",
   "metadata": {},
   "outputs": [
    {
     "name": "stdout",
     "output_type": "stream",
     "text": [
      "multiple candidate : ['International Travel', \"Backpacking in India's Beauty\", 'Movie Recommendations Assistant']\n"
     ]
    },
    {
     "data": {
      "application/vnd.jupyter.widget-view+json": {
       "model_id": "4710f7c68343431b962b4222d412ae54",
       "version_major": 2,
       "version_minor": 0
      },
      "text/plain": [
       "  0%|          | 0/3 [00:00<?, ?it/s]"
      ]
     },
     "metadata": {},
     "output_type": "display_data"
    },
    {
     "data": {
      "text/plain": [
       "'International Travel'"
      ]
     },
     "execution_count": 23,
     "metadata": {},
     "output_type": "execute_result"
    }
   ],
   "source": [
    "user_query = '''Which are the best Safari spots in the world''' # Expected Output : International Travel \n",
    "similar_chat_titles = chat_similarity.get_similar_chats(user_query,faiss_index)\n",
    "chat_similarity.return_most_similar_chat(user_query,similar_chat_titles)\n",
    "# '''\n",
    "# Expected Output : International Travel. Conflicting between 'International Travel' and Backpacking in India's Beauty\n",
    "# However, it makes sense to classify this under international travel as the query mention's the world\n",
    "# '''\n"
   ]
  },
  {
   "cell_type": "code",
   "execution_count": 25,
   "id": "fc3ea2b4-709c-4610-8b50-ad3b6c1cf1e2",
   "metadata": {},
   "outputs": [
    {
     "name": "stdout",
     "output_type": "stream",
     "text": [
      "multiple candidate : ['Help Find Missing Beagle', 'Cover Letter Assistance Request']\n"
     ]
    },
    {
     "data": {
      "application/vnd.jupyter.widget-view+json": {
       "model_id": "c5b6ad4271184c41bbff7f21689a96e9",
       "version_major": 2,
       "version_minor": 0
      },
      "text/plain": [
       "  0%|          | 0/2 [00:00<?, ?it/s]"
      ]
     },
     "metadata": {},
     "output_type": "display_data"
    },
    {
     "data": {
      "text/plain": [
       "'Help Find Missing Beagle'"
      ]
     },
     "execution_count": 25,
     "metadata": {},
     "output_type": "execute_result"
    }
   ],
   "source": [
    "user_query = '''Tell me more about animal communicators'''\n",
    "similar_chat_titles = chat_similarity.get_similar_chats(user_query,faiss_index)\n",
    "chat_similarity.return_most_similar_chat(user_query,similar_chat_titles)\n",
    "# '''\n",
    "# Animal communicators assist in finding missing dogs\n",
    "# '''"
   ]
  },
  {
   "cell_type": "markdown",
   "id": "1a0f7d9f-85ac-46b3-bf8f-3b0192139d3c",
   "metadata": {},
   "source": [
    "### Improvements & exploration"
   ]
  },
  {
   "cell_type": "markdown",
   "id": "7886551c-38e9-44f9-90d4-65198f5cb32e",
   "metadata": {},
   "source": [
    "1. experiment with passing ChatSimilarity.relevence_comparision_prompt to the system message prompt\n",
    "2. Prompts can be optimized to run on smaller models?\n",
    "3. Found an interesting example in [OpenAI's codebook repo](https://github.com/openai/openai-cookbook/blob/main/examples/Semantic_text_search_using_embeddings.ipynb)\n",
    "4. [Using Cross encoders for reranking](https://weaviate.io/blog/cross-encoders-as-reranker)"
   ]
  },
  {
   "cell_type": "code",
   "execution_count": null,
   "id": "8fd14876-b0d9-4b94-bdaa-bcc81d40a288",
   "metadata": {},
   "outputs": [],
   "source": []
  }
 ],
 "metadata": {
  "kernelspec": {
   "display_name": "openai",
   "language": "python",
   "name": "openai"
  },
  "language_info": {
   "codemirror_mode": {
    "name": "ipython",
    "version": 3
   },
   "file_extension": ".py",
   "mimetype": "text/x-python",
   "name": "python",
   "nbconvert_exporter": "python",
   "pygments_lexer": "ipython3",
   "version": "3.10.0"
  },
  "widgets": {
   "application/vnd.jupyter.widget-state+json": {
    "state": {
     "0012d3715a494c35b637d5c413eefa7b": {
      "model_module": "@jupyter-widgets/controls",
      "model_module_version": "2.0.0",
      "model_name": "HTMLStyleModel",
      "state": {
       "description_width": "",
       "font_size": null,
       "text_color": null
      }
     },
     "02162f21d818415ab21cd722177e0cab": {
      "model_module": "@jupyter-widgets/base",
      "model_module_version": "2.0.0",
      "model_name": "LayoutModel",
      "state": {}
     },
     "02ffa73c290c4c7b8ce1bd1661db1bd0": {
      "model_module": "@jupyter-widgets/base",
      "model_module_version": "2.0.0",
      "model_name": "LayoutModel",
      "state": {}
     },
     "040d0b6fa1a1414d8c4c08ba4af2292c": {
      "model_module": "@jupyter-widgets/controls",
      "model_module_version": "2.0.0",
      "model_name": "HTMLModel",
      "state": {
       "layout": "IPY_MODEL_c480631d7e5b4c7491749c625bdaecc1",
       "style": "IPY_MODEL_3c9137c89b654be38e730572add1198e",
       "value": "100%"
      }
     },
     "041a8b4a20a24dcaa5a8d6aaecc2d5a6": {
      "model_module": "@jupyter-widgets/base",
      "model_module_version": "2.0.0",
      "model_name": "LayoutModel",
      "state": {}
     },
     "0663b668e8b443449c4ab254a1b6b4a0": {
      "model_module": "@jupyter-widgets/base",
      "model_module_version": "2.0.0",
      "model_name": "LayoutModel",
      "state": {}
     },
     "0725471fecb049bda6c1c059116e6585": {
      "model_module": "@jupyter-widgets/controls",
      "model_module_version": "2.0.0",
      "model_name": "HTMLStyleModel",
      "state": {
       "description_width": "",
       "font_size": null,
       "text_color": null
      }
     },
     "074a9b7019af422294abbc1ab7b8c033": {
      "model_module": "@jupyter-widgets/controls",
      "model_module_version": "2.0.0",
      "model_name": "FloatProgressModel",
      "state": {
       "bar_style": "success",
       "layout": "IPY_MODEL_e3217fd1818140fa943868cffe293b73",
       "max": 8,
       "style": "IPY_MODEL_e046d31f21bc4a75bb9877885965503a",
       "value": 8
      }
     },
     "08d16277057b40b7b9e0d003a61a8fe7": {
      "model_module": "@jupyter-widgets/controls",
      "model_module_version": "2.0.0",
      "model_name": "HTMLStyleModel",
      "state": {
       "description_width": "",
       "font_size": null,
       "text_color": null
      }
     },
     "0a5885197d524371bc9d9203510af104": {
      "model_module": "@jupyter-widgets/controls",
      "model_module_version": "2.0.0",
      "model_name": "ProgressStyleModel",
      "state": {
       "description_width": ""
      }
     },
     "0d0487e663b94378b356b28774cfdd68": {
      "model_module": "@jupyter-widgets/controls",
      "model_module_version": "2.0.0",
      "model_name": "HBoxModel",
      "state": {
       "children": [
        "IPY_MODEL_040d0b6fa1a1414d8c4c08ba4af2292c",
        "IPY_MODEL_4754be999bcb42e5acbe5c96c422a906",
        "IPY_MODEL_12a87ee4eed04de3ba494ad91a43cc21"
       ],
       "layout": "IPY_MODEL_9ef6c658c16443a19597f17e7cd5acf4"
      }
     },
     "0d32d919c77d40f7b2e5a56ca1dfd7cf": {
      "model_module": "@jupyter-widgets/base",
      "model_module_version": "2.0.0",
      "model_name": "LayoutModel",
      "state": {}
     },
     "0de0b2f54a804355b955d50b9c990580": {
      "model_module": "@jupyter-widgets/base",
      "model_module_version": "2.0.0",
      "model_name": "LayoutModel",
      "state": {}
     },
     "0eb17d82485547a793d19e25f086c626": {
      "model_module": "@jupyter-widgets/controls",
      "model_module_version": "2.0.0",
      "model_name": "HTMLStyleModel",
      "state": {
       "description_width": "",
       "font_size": null,
       "text_color": null
      }
     },
     "0ef7e08bd67e4ed6a69040ae96047c59": {
      "model_module": "@jupyter-widgets/controls",
      "model_module_version": "2.0.0",
      "model_name": "ProgressStyleModel",
      "state": {
       "description_width": ""
      }
     },
     "0f191f492a0740449d8dac26795372c9": {
      "model_module": "@jupyter-widgets/base",
      "model_module_version": "2.0.0",
      "model_name": "LayoutModel",
      "state": {}
     },
     "11b1163bd384450294cca5310e84a774": {
      "model_module": "@jupyter-widgets/base",
      "model_module_version": "2.0.0",
      "model_name": "LayoutModel",
      "state": {}
     },
     "12a5ef774c834b5daaff1e1a7623d413": {
      "model_module": "@jupyter-widgets/controls",
      "model_module_version": "2.0.0",
      "model_name": "HTMLStyleModel",
      "state": {
       "description_width": "",
       "font_size": null,
       "text_color": null
      }
     },
     "12a87ee4eed04de3ba494ad91a43cc21": {
      "model_module": "@jupyter-widgets/controls",
      "model_module_version": "2.0.0",
      "model_name": "HTMLModel",
      "state": {
       "layout": "IPY_MODEL_193c3198459d4916945dfc078aa17aa6",
       "style": "IPY_MODEL_08d16277057b40b7b9e0d003a61a8fe7",
       "value": " 2/2 [00:00&lt;00:00, 87.09it/s]"
      }
     },
     "1326e7cf00fc46dd842c2140a0075ce0": {
      "model_module": "@jupyter-widgets/base",
      "model_module_version": "2.0.0",
      "model_name": "LayoutModel",
      "state": {}
     },
     "152b26a6b0194db099c6d787767783c6": {
      "model_module": "@jupyter-widgets/controls",
      "model_module_version": "2.0.0",
      "model_name": "HTMLStyleModel",
      "state": {
       "description_width": "",
       "font_size": null,
       "text_color": null
      }
     },
     "190ab995dc9145458bb5e0ae20e58398": {
      "model_module": "@jupyter-widgets/controls",
      "model_module_version": "2.0.0",
      "model_name": "HBoxModel",
      "state": {
       "children": [
        "IPY_MODEL_9b3978ec6e3e4d26809ceefc72f65bca",
        "IPY_MODEL_fc63688e55db4948b0d7dc93cbc90566",
        "IPY_MODEL_1aa39d76667b4f7a89fe62471b6d497e"
       ],
       "layout": "IPY_MODEL_9bd137a120014f4a936d21a3f51368c7"
      }
     },
     "193c3198459d4916945dfc078aa17aa6": {
      "model_module": "@jupyter-widgets/base",
      "model_module_version": "2.0.0",
      "model_name": "LayoutModel",
      "state": {}
     },
     "1aa39d76667b4f7a89fe62471b6d497e": {
      "model_module": "@jupyter-widgets/controls",
      "model_module_version": "2.0.0",
      "model_name": "HTMLModel",
      "state": {
       "layout": "IPY_MODEL_1c5574f7319746a0ae0e9ab2e7b7286e",
       "style": "IPY_MODEL_9c0cfbe77fa3435f821e9d2f30b31298",
       "value": " 2/2 [00:00&lt;00:00, 83.63it/s]"
      }
     },
     "1bde8fc85490444987c592321fddc97b": {
      "model_module": "@jupyter-widgets/controls",
      "model_module_version": "2.0.0",
      "model_name": "HTMLModel",
      "state": {
       "layout": "IPY_MODEL_c3742dc91068450fb063f2a23bd7ef94",
       "style": "IPY_MODEL_b926c86194ad4644926438d9d10d5384",
       "value": " 2/2 [00:00&lt;00:00, 68.88it/s]"
      }
     },
     "1c5574f7319746a0ae0e9ab2e7b7286e": {
      "model_module": "@jupyter-widgets/base",
      "model_module_version": "2.0.0",
      "model_name": "LayoutModel",
      "state": {}
     },
     "1dc0c71153b245169edccceef53d7e30": {
      "model_module": "@jupyter-widgets/controls",
      "model_module_version": "2.0.0",
      "model_name": "HTMLModel",
      "state": {
       "layout": "IPY_MODEL_c6c4ebb17feb49949332e64d38d238a9",
       "style": "IPY_MODEL_e90da3dee31d4766a7e49c01da949bf9",
       "value": "100%"
      }
     },
     "1f16fb2a3da8443d8f53a15cd8748750": {
      "model_module": "@jupyter-widgets/controls",
      "model_module_version": "2.0.0",
      "model_name": "ProgressStyleModel",
      "state": {
       "description_width": ""
      }
     },
     "1f5956da4b1947a68368a87df5e745e0": {
      "model_module": "@jupyter-widgets/base",
      "model_module_version": "2.0.0",
      "model_name": "LayoutModel",
      "state": {}
     },
     "204fe7c549724ecc89d6311d1fde6650": {
      "model_module": "@jupyter-widgets/base",
      "model_module_version": "2.0.0",
      "model_name": "LayoutModel",
      "state": {}
     },
     "216ffc670bbe4aaabce71784d082537f": {
      "model_module": "@jupyter-widgets/controls",
      "model_module_version": "2.0.0",
      "model_name": "HTMLModel",
      "state": {
       "layout": "IPY_MODEL_9bfc2c17126e4317b4feac59d1543931",
       "style": "IPY_MODEL_deb9c64a888c476f9e4abec315c63ee4",
       "value": "100%"
      }
     },
     "2253d228c7fb40d8865c4124b9512b73": {
      "model_module": "@jupyter-widgets/controls",
      "model_module_version": "2.0.0",
      "model_name": "HBoxModel",
      "state": {
       "children": [
        "IPY_MODEL_a84bbcac435847d09e0f9b5d999cf759",
        "IPY_MODEL_5da569a703cf49e88101c25432275f6b",
        "IPY_MODEL_bc4795567a784286a8578416b154b781"
       ],
       "layout": "IPY_MODEL_0d32d919c77d40f7b2e5a56ca1dfd7cf"
      }
     },
     "292246c83ff049be999479189393d7b5": {
      "model_module": "@jupyter-widgets/base",
      "model_module_version": "2.0.0",
      "model_name": "LayoutModel",
      "state": {}
     },
     "2b76d1a9927e461eb7bc677707b4e5d6": {
      "model_module": "@jupyter-widgets/controls",
      "model_module_version": "2.0.0",
      "model_name": "HBoxModel",
      "state": {
       "children": [
        "IPY_MODEL_91ea7860cb1e488089158529ad762a40",
        "IPY_MODEL_c26c3567998b4165b897b4fa98d42b2c",
        "IPY_MODEL_5d0b67b99dc54676a88677c5103e6928"
       ],
       "layout": "IPY_MODEL_1f5956da4b1947a68368a87df5e745e0"
      }
     },
     "306c6ce9d09f4a35a760335d64e7acb5": {
      "model_module": "@jupyter-widgets/controls",
      "model_module_version": "2.0.0",
      "model_name": "FloatProgressModel",
      "state": {
       "bar_style": "success",
       "layout": "IPY_MODEL_3be596280d994373aa108cedfccc0ddd",
       "max": 2,
       "style": "IPY_MODEL_a1b219939f594af7b768c3734c2203af",
       "value": 2
      }
     },
     "3a56f857ef3e4900bee16e8df9d2b7ad": {
      "model_module": "@jupyter-widgets/controls",
      "model_module_version": "2.0.0",
      "model_name": "HBoxModel",
      "state": {
       "children": [
        "IPY_MODEL_a8827d82216f45b6b0b127789c447b10",
        "IPY_MODEL_306c6ce9d09f4a35a760335d64e7acb5",
        "IPY_MODEL_69709eebd03041c19e2e14c882a53f51"
       ],
       "layout": "IPY_MODEL_a48913b49a3d49808c4f2b38b6ce10bd"
      }
     },
     "3a9b31b67859482188c4673aa3a5abc3": {
      "model_module": "@jupyter-widgets/base",
      "model_module_version": "2.0.0",
      "model_name": "LayoutModel",
      "state": {}
     },
     "3b090118ef8a4074a0d10c098f1fd7e9": {
      "model_module": "@jupyter-widgets/controls",
      "model_module_version": "2.0.0",
      "model_name": "HTMLModel",
      "state": {
       "layout": "IPY_MODEL_53269c84d7f549d4be412fa349a1eca2",
       "style": "IPY_MODEL_89390fb8f737475eb33065985a58ddc3",
       "value": " 8/8 [00:00&lt;00:00, 119.61it/s]"
      }
     },
     "3be596280d994373aa108cedfccc0ddd": {
      "model_module": "@jupyter-widgets/base",
      "model_module_version": "2.0.0",
      "model_name": "LayoutModel",
      "state": {}
     },
     "3c9137c89b654be38e730572add1198e": {
      "model_module": "@jupyter-widgets/controls",
      "model_module_version": "2.0.0",
      "model_name": "HTMLStyleModel",
      "state": {
       "description_width": "",
       "font_size": null,
       "text_color": null
      }
     },
     "3d1d2761934844dca5e62021fda76f3d": {
      "model_module": "@jupyter-widgets/controls",
      "model_module_version": "2.0.0",
      "model_name": "HTMLModel",
      "state": {
       "layout": "IPY_MODEL_0de0b2f54a804355b955d50b9c990580",
       "style": "IPY_MODEL_8a0e927805304f4baf6f74f1ca1963a1",
       "value": "100%"
      }
     },
     "403304d218af4e65b3f5ecb4602dc146": {
      "model_module": "@jupyter-widgets/controls",
      "model_module_version": "2.0.0",
      "model_name": "HTMLStyleModel",
      "state": {
       "description_width": "",
       "font_size": null,
       "text_color": null
      }
     },
     "448a5b2802b84d228ed6daf5237bccd1": {
      "model_module": "@jupyter-widgets/controls",
      "model_module_version": "2.0.0",
      "model_name": "HTMLStyleModel",
      "state": {
       "description_width": "",
       "font_size": null,
       "text_color": null
      }
     },
     "4710f7c68343431b962b4222d412ae54": {
      "model_module": "@jupyter-widgets/controls",
      "model_module_version": "2.0.0",
      "model_name": "HBoxModel",
      "state": {
       "children": [
        "IPY_MODEL_216ffc670bbe4aaabce71784d082537f",
        "IPY_MODEL_7f458432350d453a8042273fde83db6b",
        "IPY_MODEL_ee7a3f9dabe94143aba2ca5b3a70ec9e"
       ],
       "layout": "IPY_MODEL_a05a03823a7b47058ea7d402f891cb95"
      }
     },
     "4754be999bcb42e5acbe5c96c422a906": {
      "model_module": "@jupyter-widgets/controls",
      "model_module_version": "2.0.0",
      "model_name": "FloatProgressModel",
      "state": {
       "bar_style": "success",
       "layout": "IPY_MODEL_8bf6b917aecb4d8886405398785c1d1f",
       "max": 2,
       "style": "IPY_MODEL_0ef7e08bd67e4ed6a69040ae96047c59",
       "value": 2
      }
     },
     "476b8648802c4dfa9ae1a5f4fa8ecdd4": {
      "model_module": "@jupyter-widgets/base",
      "model_module_version": "2.0.0",
      "model_name": "LayoutModel",
      "state": {}
     },
     "47b4502392604afeb98586c0e51aff4e": {
      "model_module": "@jupyter-widgets/controls",
      "model_module_version": "2.0.0",
      "model_name": "HBoxModel",
      "state": {
       "children": [
        "IPY_MODEL_5884234a484248f9a24ac2de408b5e91",
        "IPY_MODEL_074a9b7019af422294abbc1ab7b8c033",
        "IPY_MODEL_5f502f4b5f1d4e2a998645a51820f931"
       ],
       "layout": "IPY_MODEL_cd9eaf7576414b9ea910fa74ae6dfc31"
      }
     },
     "4bf16ba4372642499d009a79bd767b72": {
      "model_module": "@jupyter-widgets/base",
      "model_module_version": "2.0.0",
      "model_name": "LayoutModel",
      "state": {}
     },
     "4db8f3c985564ae089f77b7f225164d4": {
      "model_module": "@jupyter-widgets/base",
      "model_module_version": "2.0.0",
      "model_name": "LayoutModel",
      "state": {}
     },
     "52d6f2b9b8c648609d3866fd1c06ab7f": {
      "model_module": "@jupyter-widgets/controls",
      "model_module_version": "2.0.0",
      "model_name": "HTMLModel",
      "state": {
       "layout": "IPY_MODEL_879d6662e7bd4d4d908068a82fbf5faf",
       "style": "IPY_MODEL_b2bfc4aa315a423aafd937426ae59d5b",
       "value": " 2/2 [00:00&lt;00:00, 60.89it/s]"
      }
     },
     "53269c84d7f549d4be412fa349a1eca2": {
      "model_module": "@jupyter-widgets/base",
      "model_module_version": "2.0.0",
      "model_name": "LayoutModel",
      "state": {}
     },
     "54cc11b516d54e48b67144f6c35bfe47": {
      "model_module": "@jupyter-widgets/base",
      "model_module_version": "2.0.0",
      "model_name": "LayoutModel",
      "state": {}
     },
     "582525f3986e479d8de8de00c1731cb9": {
      "model_module": "@jupyter-widgets/base",
      "model_module_version": "2.0.0",
      "model_name": "LayoutModel",
      "state": {}
     },
     "5884234a484248f9a24ac2de408b5e91": {
      "model_module": "@jupyter-widgets/controls",
      "model_module_version": "2.0.0",
      "model_name": "HTMLModel",
      "state": {
       "layout": "IPY_MODEL_9acb67e330ad4a8589ce6c4a8d96bc8e",
       "style": "IPY_MODEL_ae1fec17185d4aa59ebf063876e5005c",
       "value": "100%"
      }
     },
     "5c8bc6af583542398ee38e79e443577c": {
      "model_module": "@jupyter-widgets/controls",
      "model_module_version": "2.0.0",
      "model_name": "FloatProgressModel",
      "state": {
       "bar_style": "success",
       "layout": "IPY_MODEL_582525f3986e479d8de8de00c1731cb9",
       "max": 8,
       "style": "IPY_MODEL_96d83f6cd0bb474a9729c82e5d7442cd",
       "value": 8
      }
     },
     "5d0b67b99dc54676a88677c5103e6928": {
      "model_module": "@jupyter-widgets/controls",
      "model_module_version": "2.0.0",
      "model_name": "HTMLModel",
      "state": {
       "layout": "IPY_MODEL_f8ac9ea38078440b9b6be1972fb65b1f",
       "style": "IPY_MODEL_9a7ad67aadbb4c7da0ac218cdd5e7db1",
       "value": " 2/2 [00:00&lt;00:00, 77.19it/s]"
      }
     },
     "5da569a703cf49e88101c25432275f6b": {
      "model_module": "@jupyter-widgets/controls",
      "model_module_version": "2.0.0",
      "model_name": "FloatProgressModel",
      "state": {
       "bar_style": "success",
       "layout": "IPY_MODEL_204fe7c549724ecc89d6311d1fde6650",
       "max": 2,
       "style": "IPY_MODEL_e1dc0ce8c7994b15abdf66b59da0b4dd",
       "value": 2
      }
     },
     "5ea6cbb172464d908b969521a918c508": {
      "model_module": "@jupyter-widgets/controls",
      "model_module_version": "2.0.0",
      "model_name": "HBoxModel",
      "state": {
       "children": [
        "IPY_MODEL_7834a912951c4a049f124269098b102c",
        "IPY_MODEL_cb1ba8bc4e644db2be7b8121f80f48b9",
        "IPY_MODEL_e38f925baba94c5bb5c1513e68b0ea53"
       ],
       "layout": "IPY_MODEL_a42a259bedc24d17baa89153e3371f32"
      }
     },
     "5f502f4b5f1d4e2a998645a51820f931": {
      "model_module": "@jupyter-widgets/controls",
      "model_module_version": "2.0.0",
      "model_name": "HTMLModel",
      "state": {
       "layout": "IPY_MODEL_c4ee6b5a4814447f9f1147a1dca6d137",
       "style": "IPY_MODEL_6c87ff9ed3a045b6ad62f7103f914b2e",
       "value": " 8/8 [03:57&lt;00:00, 36.53s/it]"
      }
     },
     "6126278ae2e94d5289885000153c6ba4": {
      "model_module": "@jupyter-widgets/controls",
      "model_module_version": "2.0.0",
      "model_name": "HTMLStyleModel",
      "state": {
       "description_width": "",
       "font_size": null,
       "text_color": null
      }
     },
     "61ed0d54bfa54adcb9bc3225ebf6297f": {
      "model_module": "@jupyter-widgets/base",
      "model_module_version": "2.0.0",
      "model_name": "LayoutModel",
      "state": {}
     },
     "625ce0c9dc6d4ebbb8a686e6be1d2f38": {
      "model_module": "@jupyter-widgets/controls",
      "model_module_version": "2.0.0",
      "model_name": "HTMLModel",
      "state": {
       "layout": "IPY_MODEL_84f9dffcf783460ea49ee484b0cec412",
       "style": "IPY_MODEL_448a5b2802b84d228ed6daf5237bccd1",
       "value": " 2/2 [00:00&lt;00:00, 80.41it/s]"
      }
     },
     "66f79773798e4774aca37d3d719b15bc": {
      "model_module": "@jupyter-widgets/base",
      "model_module_version": "2.0.0",
      "model_name": "LayoutModel",
      "state": {}
     },
     "69709eebd03041c19e2e14c882a53f51": {
      "model_module": "@jupyter-widgets/controls",
      "model_module_version": "2.0.0",
      "model_name": "HTMLModel",
      "state": {
       "layout": "IPY_MODEL_db186bc0e7c0471fab6e222ae1b4c23d",
       "style": "IPY_MODEL_fb5de5c0f1034b8e8e302203d1c1df5b",
       "value": " 2/2 [00:00&lt;00:00, 80.19it/s]"
      }
     },
     "6c87ff9ed3a045b6ad62f7103f914b2e": {
      "model_module": "@jupyter-widgets/controls",
      "model_module_version": "2.0.0",
      "model_name": "HTMLStyleModel",
      "state": {
       "description_width": "",
       "font_size": null,
       "text_color": null
      }
     },
     "6e3430deec634b7787bed084dc4cca0f": {
      "model_module": "@jupyter-widgets/controls",
      "model_module_version": "2.0.0",
      "model_name": "FloatProgressModel",
      "state": {
       "bar_style": "success",
       "layout": "IPY_MODEL_ef3d3df69f274443af2b7b8d9eba9206",
       "max": 2,
       "style": "IPY_MODEL_8e0889571c7e4c60a62453c270073ee4",
       "value": 2
      }
     },
     "76902ee8dd2d43d8a4a1648d013f48b7": {
      "model_module": "@jupyter-widgets/base",
      "model_module_version": "2.0.0",
      "model_name": "LayoutModel",
      "state": {}
     },
     "7834a912951c4a049f124269098b102c": {
      "model_module": "@jupyter-widgets/controls",
      "model_module_version": "2.0.0",
      "model_name": "HTMLModel",
      "state": {
       "layout": "IPY_MODEL_f2290459dd244beaa3115803e3c26743",
       "style": "IPY_MODEL_0012d3715a494c35b637d5c413eefa7b",
       "value": "100%"
      }
     },
     "793720db28c9416cb73c506823d9e0a8": {
      "model_module": "@jupyter-widgets/controls",
      "model_module_version": "2.0.0",
      "model_name": "HTMLModel",
      "state": {
       "layout": "IPY_MODEL_11b1163bd384450294cca5310e84a774",
       "style": "IPY_MODEL_12a5ef774c834b5daaff1e1a7623d413",
       "value": "100%"
      }
     },
     "7ea855bf124f4c4185b49ed1e010e6e2": {
      "model_module": "@jupyter-widgets/controls",
      "model_module_version": "2.0.0",
      "model_name": "ProgressStyleModel",
      "state": {
       "description_width": ""
      }
     },
     "7f458432350d453a8042273fde83db6b": {
      "model_module": "@jupyter-widgets/controls",
      "model_module_version": "2.0.0",
      "model_name": "FloatProgressModel",
      "state": {
       "bar_style": "success",
       "layout": "IPY_MODEL_66f79773798e4774aca37d3d719b15bc",
       "max": 3,
       "style": "IPY_MODEL_c19ba4decc764f409fe60a655522e06c",
       "value": 3
      }
     },
     "84f9dffcf783460ea49ee484b0cec412": {
      "model_module": "@jupyter-widgets/base",
      "model_module_version": "2.0.0",
      "model_name": "LayoutModel",
      "state": {}
     },
     "87214ea445bb420096242f36b28ec8c6": {
      "model_module": "@jupyter-widgets/controls",
      "model_module_version": "2.0.0",
      "model_name": "ProgressStyleModel",
      "state": {
       "description_width": ""
      }
     },
     "879d6662e7bd4d4d908068a82fbf5faf": {
      "model_module": "@jupyter-widgets/base",
      "model_module_version": "2.0.0",
      "model_name": "LayoutModel",
      "state": {}
     },
     "89390fb8f737475eb33065985a58ddc3": {
      "model_module": "@jupyter-widgets/controls",
      "model_module_version": "2.0.0",
      "model_name": "HTMLStyleModel",
      "state": {
       "description_width": "",
       "font_size": null,
       "text_color": null
      }
     },
     "8a0e927805304f4baf6f74f1ca1963a1": {
      "model_module": "@jupyter-widgets/controls",
      "model_module_version": "2.0.0",
      "model_name": "HTMLStyleModel",
      "state": {
       "description_width": "",
       "font_size": null,
       "text_color": null
      }
     },
     "8a11e7a4afe6417b8a51489942ba9ce0": {
      "model_module": "@jupyter-widgets/base",
      "model_module_version": "2.0.0",
      "model_name": "LayoutModel",
      "state": {}
     },
     "8bf6b917aecb4d8886405398785c1d1f": {
      "model_module": "@jupyter-widgets/base",
      "model_module_version": "2.0.0",
      "model_name": "LayoutModel",
      "state": {}
     },
     "8c1456f4bcac4fac8f24ba50e3794d7f": {
      "model_module": "@jupyter-widgets/controls",
      "model_module_version": "2.0.0",
      "model_name": "HBoxModel",
      "state": {
       "children": [
        "IPY_MODEL_1dc0c71153b245169edccceef53d7e30",
        "IPY_MODEL_6e3430deec634b7787bed084dc4cca0f",
        "IPY_MODEL_b1d4600376084df49e2544919915bbc2"
       ],
       "layout": "IPY_MODEL_02162f21d818415ab21cd722177e0cab"
      }
     },
     "8cb2afa704b54610b89751c15c885d83": {
      "model_module": "@jupyter-widgets/base",
      "model_module_version": "2.0.0",
      "model_name": "LayoutModel",
      "state": {}
     },
     "8e0889571c7e4c60a62453c270073ee4": {
      "model_module": "@jupyter-widgets/controls",
      "model_module_version": "2.0.0",
      "model_name": "ProgressStyleModel",
      "state": {
       "description_width": ""
      }
     },
     "91ea7860cb1e488089158529ad762a40": {
      "model_module": "@jupyter-widgets/controls",
      "model_module_version": "2.0.0",
      "model_name": "HTMLModel",
      "state": {
       "layout": "IPY_MODEL_0663b668e8b443449c4ab254a1b6b4a0",
       "style": "IPY_MODEL_403304d218af4e65b3f5ecb4602dc146",
       "value": "100%"
      }
     },
     "96d83f6cd0bb474a9729c82e5d7442cd": {
      "model_module": "@jupyter-widgets/controls",
      "model_module_version": "2.0.0",
      "model_name": "ProgressStyleModel",
      "state": {
       "description_width": ""
      }
     },
     "9a7ad67aadbb4c7da0ac218cdd5e7db1": {
      "model_module": "@jupyter-widgets/controls",
      "model_module_version": "2.0.0",
      "model_name": "HTMLStyleModel",
      "state": {
       "description_width": "",
       "font_size": null,
       "text_color": null
      }
     },
     "9acb67e330ad4a8589ce6c4a8d96bc8e": {
      "model_module": "@jupyter-widgets/base",
      "model_module_version": "2.0.0",
      "model_name": "LayoutModel",
      "state": {}
     },
     "9b3978ec6e3e4d26809ceefc72f65bca": {
      "model_module": "@jupyter-widgets/controls",
      "model_module_version": "2.0.0",
      "model_name": "HTMLModel",
      "state": {
       "layout": "IPY_MODEL_ca45b7bad6544c8b91dd5263551b20b5",
       "style": "IPY_MODEL_af91fbc2bed34e5a85983c3ca0188b44",
       "value": "100%"
      }
     },
     "9bd137a120014f4a936d21a3f51368c7": {
      "model_module": "@jupyter-widgets/base",
      "model_module_version": "2.0.0",
      "model_name": "LayoutModel",
      "state": {}
     },
     "9bfc2c17126e4317b4feac59d1543931": {
      "model_module": "@jupyter-widgets/base",
      "model_module_version": "2.0.0",
      "model_name": "LayoutModel",
      "state": {}
     },
     "9c0cfbe77fa3435f821e9d2f30b31298": {
      "model_module": "@jupyter-widgets/controls",
      "model_module_version": "2.0.0",
      "model_name": "HTMLStyleModel",
      "state": {
       "description_width": "",
       "font_size": null,
       "text_color": null
      }
     },
     "9ef6c658c16443a19597f17e7cd5acf4": {
      "model_module": "@jupyter-widgets/base",
      "model_module_version": "2.0.0",
      "model_name": "LayoutModel",
      "state": {}
     },
     "a05a03823a7b47058ea7d402f891cb95": {
      "model_module": "@jupyter-widgets/base",
      "model_module_version": "2.0.0",
      "model_name": "LayoutModel",
      "state": {}
     },
     "a1b219939f594af7b768c3734c2203af": {
      "model_module": "@jupyter-widgets/controls",
      "model_module_version": "2.0.0",
      "model_name": "ProgressStyleModel",
      "state": {
       "description_width": ""
      }
     },
     "a42a259bedc24d17baa89153e3371f32": {
      "model_module": "@jupyter-widgets/base",
      "model_module_version": "2.0.0",
      "model_name": "LayoutModel",
      "state": {}
     },
     "a48913b49a3d49808c4f2b38b6ce10bd": {
      "model_module": "@jupyter-widgets/base",
      "model_module_version": "2.0.0",
      "model_name": "LayoutModel",
      "state": {}
     },
     "a75e86d15cd8498a87c29897a6390e20": {
      "model_module": "@jupyter-widgets/controls",
      "model_module_version": "2.0.0",
      "model_name": "HTMLStyleModel",
      "state": {
       "description_width": "",
       "font_size": null,
       "text_color": null
      }
     },
     "a84bbcac435847d09e0f9b5d999cf759": {
      "model_module": "@jupyter-widgets/controls",
      "model_module_version": "2.0.0",
      "model_name": "HTMLModel",
      "state": {
       "layout": "IPY_MODEL_292246c83ff049be999479189393d7b5",
       "style": "IPY_MODEL_152b26a6b0194db099c6d787767783c6",
       "value": "100%"
      }
     },
     "a8827d82216f45b6b0b127789c447b10": {
      "model_module": "@jupyter-widgets/controls",
      "model_module_version": "2.0.0",
      "model_name": "HTMLModel",
      "state": {
       "layout": "IPY_MODEL_c883b02febad45e186f4e4f21f4872a3",
       "style": "IPY_MODEL_cef1c27eec6e47a292df84d3f9f31c64",
       "value": "100%"
      }
     },
     "ad2f835c78a64fd88bdfae8a01bfef6a": {
      "model_module": "@jupyter-widgets/controls",
      "model_module_version": "2.0.0",
      "model_name": "HBoxModel",
      "state": {
       "children": [
        "IPY_MODEL_3d1d2761934844dca5e62021fda76f3d",
        "IPY_MODEL_5c8bc6af583542398ee38e79e443577c",
        "IPY_MODEL_3b090118ef8a4074a0d10c098f1fd7e9"
       ],
       "layout": "IPY_MODEL_0f191f492a0740449d8dac26795372c9"
      }
     },
     "ae1fec17185d4aa59ebf063876e5005c": {
      "model_module": "@jupyter-widgets/controls",
      "model_module_version": "2.0.0",
      "model_name": "HTMLStyleModel",
      "state": {
       "description_width": "",
       "font_size": null,
       "text_color": null
      }
     },
     "af91fbc2bed34e5a85983c3ca0188b44": {
      "model_module": "@jupyter-widgets/controls",
      "model_module_version": "2.0.0",
      "model_name": "HTMLStyleModel",
      "state": {
       "description_width": "",
       "font_size": null,
       "text_color": null
      }
     },
     "b1d4600376084df49e2544919915bbc2": {
      "model_module": "@jupyter-widgets/controls",
      "model_module_version": "2.0.0",
      "model_name": "HTMLModel",
      "state": {
       "layout": "IPY_MODEL_fb080ebbc60e4dc7a99466030616945d",
       "style": "IPY_MODEL_f8de7b3410834e089d35d9bea584fe93",
       "value": " 2/2 [00:00&lt;00:00, 49.46it/s]"
      }
     },
     "b2bfc4aa315a423aafd937426ae59d5b": {
      "model_module": "@jupyter-widgets/controls",
      "model_module_version": "2.0.0",
      "model_name": "HTMLStyleModel",
      "state": {
       "description_width": "",
       "font_size": null,
       "text_color": null
      }
     },
     "b926c86194ad4644926438d9d10d5384": {
      "model_module": "@jupyter-widgets/controls",
      "model_module_version": "2.0.0",
      "model_name": "HTMLStyleModel",
      "state": {
       "description_width": "",
       "font_size": null,
       "text_color": null
      }
     },
     "b934b23bff4344eaa18fa118b96a5572": {
      "model_module": "@jupyter-widgets/controls",
      "model_module_version": "2.0.0",
      "model_name": "ProgressStyleModel",
      "state": {
       "description_width": ""
      }
     },
     "bc4795567a784286a8578416b154b781": {
      "model_module": "@jupyter-widgets/controls",
      "model_module_version": "2.0.0",
      "model_name": "HTMLModel",
      "state": {
       "layout": "IPY_MODEL_4db8f3c985564ae089f77b7f225164d4",
       "style": "IPY_MODEL_0725471fecb049bda6c1c059116e6585",
       "value": " 2/2 [00:00&lt;00:00, 51.66it/s]"
      }
     },
     "c19ba4decc764f409fe60a655522e06c": {
      "model_module": "@jupyter-widgets/controls",
      "model_module_version": "2.0.0",
      "model_name": "ProgressStyleModel",
      "state": {
       "description_width": ""
      }
     },
     "c1e965bbd6414234bcfe99208044f2a3": {
      "model_module": "@jupyter-widgets/controls",
      "model_module_version": "2.0.0",
      "model_name": "HTMLModel",
      "state": {
       "layout": "IPY_MODEL_f4ec45ea37684590a8238862b0c79b4e",
       "style": "IPY_MODEL_dcfbceb7e5e64ad084b51d5a7bd4ece9",
       "value": "100%"
      }
     },
     "c26c3567998b4165b897b4fa98d42b2c": {
      "model_module": "@jupyter-widgets/controls",
      "model_module_version": "2.0.0",
      "model_name": "FloatProgressModel",
      "state": {
       "bar_style": "success",
       "layout": "IPY_MODEL_476b8648802c4dfa9ae1a5f4fa8ecdd4",
       "max": 2,
       "style": "IPY_MODEL_1f16fb2a3da8443d8f53a15cd8748750",
       "value": 2
      }
     },
     "c3742dc91068450fb063f2a23bd7ef94": {
      "model_module": "@jupyter-widgets/base",
      "model_module_version": "2.0.0",
      "model_name": "LayoutModel",
      "state": {}
     },
     "c480631d7e5b4c7491749c625bdaecc1": {
      "model_module": "@jupyter-widgets/base",
      "model_module_version": "2.0.0",
      "model_name": "LayoutModel",
      "state": {}
     },
     "c4ee6b5a4814447f9f1147a1dca6d137": {
      "model_module": "@jupyter-widgets/base",
      "model_module_version": "2.0.0",
      "model_name": "LayoutModel",
      "state": {}
     },
     "c5b6ad4271184c41bbff7f21689a96e9": {
      "model_module": "@jupyter-widgets/controls",
      "model_module_version": "2.0.0",
      "model_name": "HBoxModel",
      "state": {
       "children": [
        "IPY_MODEL_fdfbe665ef8d4e6cb8b36e780e3ef797",
        "IPY_MODEL_ef6757e3adb04b439e1ba296117bc915",
        "IPY_MODEL_52d6f2b9b8c648609d3866fd1c06ab7f"
       ],
       "layout": "IPY_MODEL_3a9b31b67859482188c4673aa3a5abc3"
      }
     },
     "c6c4ebb17feb49949332e64d38d238a9": {
      "model_module": "@jupyter-widgets/base",
      "model_module_version": "2.0.0",
      "model_name": "LayoutModel",
      "state": {}
     },
     "c883b02febad45e186f4e4f21f4872a3": {
      "model_module": "@jupyter-widgets/base",
      "model_module_version": "2.0.0",
      "model_name": "LayoutModel",
      "state": {}
     },
     "c94a3a1076f441d889a01877d9cb2e24": {
      "model_module": "@jupyter-widgets/controls",
      "model_module_version": "2.0.0",
      "model_name": "HBoxModel",
      "state": {
       "children": [
        "IPY_MODEL_c1e965bbd6414234bcfe99208044f2a3",
        "IPY_MODEL_faba549ad3364f9ca2b120914494c965",
        "IPY_MODEL_625ce0c9dc6d4ebbb8a686e6be1d2f38"
       ],
       "layout": "IPY_MODEL_8a11e7a4afe6417b8a51489942ba9ce0"
      }
     },
     "ca45b7bad6544c8b91dd5263551b20b5": {
      "model_module": "@jupyter-widgets/base",
      "model_module_version": "2.0.0",
      "model_name": "LayoutModel",
      "state": {}
     },
     "cb1ba8bc4e644db2be7b8121f80f48b9": {
      "model_module": "@jupyter-widgets/controls",
      "model_module_version": "2.0.0",
      "model_name": "FloatProgressModel",
      "state": {
       "bar_style": "success",
       "layout": "IPY_MODEL_76902ee8dd2d43d8a4a1648d013f48b7",
       "max": 2,
       "style": "IPY_MODEL_7ea855bf124f4c4185b49ed1e010e6e2",
       "value": 2
      }
     },
     "cd9eaf7576414b9ea910fa74ae6dfc31": {
      "model_module": "@jupyter-widgets/base",
      "model_module_version": "2.0.0",
      "model_name": "LayoutModel",
      "state": {}
     },
     "cef1c27eec6e47a292df84d3f9f31c64": {
      "model_module": "@jupyter-widgets/controls",
      "model_module_version": "2.0.0",
      "model_name": "HTMLStyleModel",
      "state": {
       "description_width": "",
       "font_size": null,
       "text_color": null
      }
     },
     "d945143175f947829186554687410da6": {
      "model_module": "@jupyter-widgets/controls",
      "model_module_version": "2.0.0",
      "model_name": "ProgressStyleModel",
      "state": {
       "description_width": ""
      }
     },
     "db186bc0e7c0471fab6e222ae1b4c23d": {
      "model_module": "@jupyter-widgets/base",
      "model_module_version": "2.0.0",
      "model_name": "LayoutModel",
      "state": {}
     },
     "dcfbceb7e5e64ad084b51d5a7bd4ece9": {
      "model_module": "@jupyter-widgets/controls",
      "model_module_version": "2.0.0",
      "model_name": "HTMLStyleModel",
      "state": {
       "description_width": "",
       "font_size": null,
       "text_color": null
      }
     },
     "deb9c64a888c476f9e4abec315c63ee4": {
      "model_module": "@jupyter-widgets/controls",
      "model_module_version": "2.0.0",
      "model_name": "HTMLStyleModel",
      "state": {
       "description_width": "",
       "font_size": null,
       "text_color": null
      }
     },
     "e046d31f21bc4a75bb9877885965503a": {
      "model_module": "@jupyter-widgets/controls",
      "model_module_version": "2.0.0",
      "model_name": "ProgressStyleModel",
      "state": {
       "description_width": ""
      }
     },
     "e1dc0ce8c7994b15abdf66b59da0b4dd": {
      "model_module": "@jupyter-widgets/controls",
      "model_module_version": "2.0.0",
      "model_name": "ProgressStyleModel",
      "state": {
       "description_width": ""
      }
     },
     "e3217fd1818140fa943868cffe293b73": {
      "model_module": "@jupyter-widgets/base",
      "model_module_version": "2.0.0",
      "model_name": "LayoutModel",
      "state": {}
     },
     "e38f925baba94c5bb5c1513e68b0ea53": {
      "model_module": "@jupyter-widgets/controls",
      "model_module_version": "2.0.0",
      "model_name": "HTMLModel",
      "state": {
       "layout": "IPY_MODEL_041a8b4a20a24dcaa5a8d6aaecc2d5a6",
       "style": "IPY_MODEL_6126278ae2e94d5289885000153c6ba4",
       "value": " 2/2 [00:00&lt;00:00, 48.37it/s]"
      }
     },
     "e45b934abf64445eb1f722cc84d74fa4": {
      "model_module": "@jupyter-widgets/controls",
      "model_module_version": "2.0.0",
      "model_name": "HBoxModel",
      "state": {
       "children": [
        "IPY_MODEL_793720db28c9416cb73c506823d9e0a8",
        "IPY_MODEL_f9e1753aed734a39a2a3de2223b5cc86",
        "IPY_MODEL_1bde8fc85490444987c592321fddc97b"
       ],
       "layout": "IPY_MODEL_1326e7cf00fc46dd842c2140a0075ce0"
      }
     },
     "e90da3dee31d4766a7e49c01da949bf9": {
      "model_module": "@jupyter-widgets/controls",
      "model_module_version": "2.0.0",
      "model_name": "HTMLStyleModel",
      "state": {
       "description_width": "",
       "font_size": null,
       "text_color": null
      }
     },
     "eb2c65ab2a0645f59b57b857dba77574": {
      "model_module": "@jupyter-widgets/base",
      "model_module_version": "2.0.0",
      "model_name": "LayoutModel",
      "state": {}
     },
     "ee7a3f9dabe94143aba2ca5b3a70ec9e": {
      "model_module": "@jupyter-widgets/controls",
      "model_module_version": "2.0.0",
      "model_name": "HTMLModel",
      "state": {
       "layout": "IPY_MODEL_02ffa73c290c4c7b8ce1bd1661db1bd0",
       "style": "IPY_MODEL_0eb17d82485547a793d19e25f086c626",
       "value": " 3/3 [00:00&lt;00:00, 102.53it/s]"
      }
     },
     "ef3d3df69f274443af2b7b8d9eba9206": {
      "model_module": "@jupyter-widgets/base",
      "model_module_version": "2.0.0",
      "model_name": "LayoutModel",
      "state": {}
     },
     "ef6757e3adb04b439e1ba296117bc915": {
      "model_module": "@jupyter-widgets/controls",
      "model_module_version": "2.0.0",
      "model_name": "FloatProgressModel",
      "state": {
       "bar_style": "success",
       "layout": "IPY_MODEL_54cc11b516d54e48b67144f6c35bfe47",
       "max": 2,
       "style": "IPY_MODEL_b934b23bff4344eaa18fa118b96a5572",
       "value": 2
      }
     },
     "f2290459dd244beaa3115803e3c26743": {
      "model_module": "@jupyter-widgets/base",
      "model_module_version": "2.0.0",
      "model_name": "LayoutModel",
      "state": {}
     },
     "f4ec45ea37684590a8238862b0c79b4e": {
      "model_module": "@jupyter-widgets/base",
      "model_module_version": "2.0.0",
      "model_name": "LayoutModel",
      "state": {}
     },
     "f8ac9ea38078440b9b6be1972fb65b1f": {
      "model_module": "@jupyter-widgets/base",
      "model_module_version": "2.0.0",
      "model_name": "LayoutModel",
      "state": {}
     },
     "f8de7b3410834e089d35d9bea584fe93": {
      "model_module": "@jupyter-widgets/controls",
      "model_module_version": "2.0.0",
      "model_name": "HTMLStyleModel",
      "state": {
       "description_width": "",
       "font_size": null,
       "text_color": null
      }
     },
     "f9e1753aed734a39a2a3de2223b5cc86": {
      "model_module": "@jupyter-widgets/controls",
      "model_module_version": "2.0.0",
      "model_name": "FloatProgressModel",
      "state": {
       "bar_style": "success",
       "layout": "IPY_MODEL_8cb2afa704b54610b89751c15c885d83",
       "max": 2,
       "style": "IPY_MODEL_d945143175f947829186554687410da6",
       "value": 2
      }
     },
     "faba549ad3364f9ca2b120914494c965": {
      "model_module": "@jupyter-widgets/controls",
      "model_module_version": "2.0.0",
      "model_name": "FloatProgressModel",
      "state": {
       "bar_style": "success",
       "layout": "IPY_MODEL_4bf16ba4372642499d009a79bd767b72",
       "max": 2,
       "style": "IPY_MODEL_87214ea445bb420096242f36b28ec8c6",
       "value": 2
      }
     },
     "fb080ebbc60e4dc7a99466030616945d": {
      "model_module": "@jupyter-widgets/base",
      "model_module_version": "2.0.0",
      "model_name": "LayoutModel",
      "state": {}
     },
     "fb5de5c0f1034b8e8e302203d1c1df5b": {
      "model_module": "@jupyter-widgets/controls",
      "model_module_version": "2.0.0",
      "model_name": "HTMLStyleModel",
      "state": {
       "description_width": "",
       "font_size": null,
       "text_color": null
      }
     },
     "fc63688e55db4948b0d7dc93cbc90566": {
      "model_module": "@jupyter-widgets/controls",
      "model_module_version": "2.0.0",
      "model_name": "FloatProgressModel",
      "state": {
       "bar_style": "success",
       "layout": "IPY_MODEL_eb2c65ab2a0645f59b57b857dba77574",
       "max": 2,
       "style": "IPY_MODEL_0a5885197d524371bc9d9203510af104",
       "value": 2
      }
     },
     "fdfbe665ef8d4e6cb8b36e780e3ef797": {
      "model_module": "@jupyter-widgets/controls",
      "model_module_version": "2.0.0",
      "model_name": "HTMLModel",
      "state": {
       "layout": "IPY_MODEL_61ed0d54bfa54adcb9bc3225ebf6297f",
       "style": "IPY_MODEL_a75e86d15cd8498a87c29897a6390e20",
       "value": "100%"
      }
     }
    },
    "version_major": 2,
    "version_minor": 0
   }
  }
 },
 "nbformat": 4,
 "nbformat_minor": 5
}
