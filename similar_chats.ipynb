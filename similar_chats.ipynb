{
 "cells": [
  {
   "cell_type": "code",
   "execution_count": 1,
   "id": "0a5eefe1-4f8e-4f65-9aa1-77466c8457d4",
   "metadata": {},
   "outputs": [],
   "source": [
    "# import classes\n",
    "from classes.QuerySimilaritySearch import QuerySimilaritySearch\n",
    "from classes.OpenaiConnector import OpenaiConnector\n",
    "from classes.ChatSimilarity import ChatSimilarity"
   ]
  },
  {
   "cell_type": "code",
   "execution_count": null,
   "id": "0ebe5432-ed97-4d85-b0f2-d41e284881ba",
   "metadata": {},
   "outputs": [],
   "source": [
    "openai_api_key = '' #Enter your API Key"
   ]
  },
  {
   "cell_type": "code",
   "execution_count": 2,
   "id": "c2e49868-62c2-400c-851a-945583038526",
   "metadata": {},
   "outputs": [],
   "source": [
    "chat_similarity = ChatSimilarity(\n",
    "                    \"data/chat_data/conversations.json\",\n",
    "                      openai_api_key,)"
   ]
  },
  {
   "cell_type": "markdown",
   "id": "83aa312a-750d-4130-8f85-463b3e408116",
   "metadata": {},
   "source": [
    "### Index Generation"
   ]
  },
  {
   "cell_type": "code",
   "execution_count": 3,
   "id": "f15861fd-9119-4101-b2d2-57d8680ae391",
   "metadata": {},
   "outputs": [
    {
     "data": {
      "application/vnd.jupyter.widget-view+json": {
       "model_id": "3aee7e1c0933449da380d8e130a9ede9",
       "version_major": 2,
       "version_minor": 0
      },
      "text/plain": [
       "  0%|          | 0/8 [00:00<?, ?it/s]"
      ]
     },
     "metadata": {},
     "output_type": "display_data"
    }
   ],
   "source": [
    "# Generate similar queries and embeddings for the supplied chats\n",
    "chat_similarity.generate_similar_queries() #this function takes a few mins to run\n",
    "# import copy\n",
    "# chat_thread_similar_queries = copy.deepcopy(chat_similarity.chat_thread_similar_queries)\n",
    "# chat_similarity.chat_thread_similar_queries = copy.deepcopy(chat_thread_similar_queries)"
   ]
  },
  {
   "cell_type": "code",
   "execution_count": 4,
   "id": "9eb15873-c590-4719-a93b-e4dd8c599cb0",
   "metadata": {},
   "outputs": [
    {
     "data": {
      "text/plain": [
       "dict_keys(['International Travel', 'Nas Top Tracks', \"Backpacking in India's Beauty\", 'Movie Recommendations Assistant', 'Help Find Missing Beagle', 'Center Aligned Table', 'Resume Modification - Consulting/Marketing', 'Cover Letter Assistance Request'])"
      ]
     },
     "execution_count": 4,
     "metadata": {},
     "output_type": "execute_result"
    }
   ],
   "source": [
    "# let us look at the chat threads\n",
    "chat_similarity.chat_thread_similar_queries.keys()"
   ]
  },
  {
   "cell_type": "code",
   "execution_count": 5,
   "id": "2031957a-5fb3-488a-9607-8cb99ad2e07e",
   "metadata": {},
   "outputs": [
    {
     "data": {
      "text/plain": [
       "['Can you recommend any offbeat natural destinations to explore?',\n",
       " 'Which season would you suggest for trekking in the Himalayas?',\n",
       " 'Are there any national parks or wildlife reserves worth visiting?',\n",
       " \"Is sustainable tourism a priority in the places you've recommended?\",\n",
       " 'Please tell me about the vegan food scene in these regions.',\n",
       " 'Are there any opportunities for volunteering or community work in these areas?',\n",
       " 'How do I prepare myself for the high altitudes while trekking?',\n",
       " 'What are the must-visit spiritual sites for backpackers?',\n",
       " \"I'm interested in adventure sports. Any suggestions?\",\n",
       " 'Can you suggest eco-friendly accommodations or homestays?',\n",
       " 'If I have extra days, which additional',\n",
       " 'Are there any off-the-beaten-track destinations in India that offer a mix of natural beauty and vibrant backpacker culture?',\n",
       " 'Do you have any recommendations for eco-friendly places with scenic landscapes in India?',\n",
       " 'Have you heard of any lesser-known places in North India that are popular with backpackers?',\n",
       " \"I am interested in exploring India's wildlife, any suggestions for places with both natural beauty and wildlife experiences?\",\n",
       " 'Which state in North India is known for its scenic hill stations and a thriving backpacker scene?',\n",
       " 'Do you know any places in India where travelers can participate in volunteer work and experience the local culture?',\n",
       " 'Could you recommend any specific trekking routes in North India that',\n",
       " 'What other regions of India have you explored in the past?',\n",
       " \"Have you considered traveling to the North East? It's known for its untouched natural beauty.\",\n",
       " 'Are you interested in hiking or trekking during your trip?',\n",
       " 'Do you prefer to stay in budget-friendly hostels or splurge on comfortable hotels?',\n",
       " 'How important is it for you to immerse yourself in the local culture and customs?',\n",
       " 'Would you be open to traveling to remote areas to experience the true beauty of India?',\n",
       " \"Are there any specific outdoor activities or sports you'd like to try during your trip?\",\n",
       " \"Have you heard of the Spiti Valley circuit? It's popular among backpackers for its scenic landscapes.\",\n",
       " 'Could you suggest any offbeat destinations with unspoiled natural beauty?',\n",
       " 'Do you have any recommendations for places with a vibrant backpacking culture?',\n",
       " 'Are there budget-friendly options available for exploring the natural beauty of India?',\n",
       " 'How about adding a mountain trek to the itinerary?',\n",
       " 'Which places in India are known for their spiritual and natural charm?',\n",
       " 'Any tips for traveling to the Himalayan region during monsoon season?',\n",
       " 'Is there a specific time of year when I can experience the Pushkar Camel Fair?',\n",
       " 'What unique cultural experiences should I engage in during my travels?',\n",
       " 'Do you have any suggestions for locally-sourced and authentic food experiences?',\n",
       " 'Are there any lesser-known natural spots in India that are popular among backpackers?',\n",
       " 'Can you suggest some trekking options with stunning views within India?',\n",
       " 'How is the backpacker culture in the Himalayan region?',\n",
       " \"I'm interested in exploring cultural experiences along with natural beauty. Where should I go?\",\n",
       " 'Can you recommend some affordable accommodation options for backpackers in India?',\n",
       " 'What is the best way to travel between different destinations in India?',\n",
       " \"I've heard about ecotourism in India. Can you provide some examples?\",\n",
       " 'Which state(s) in India are known for their vibrant backpacker culture?',\n",
       " 'What are some unique activities or festivals that backpackers should check out in India']"
      ]
     },
     "execution_count": 5,
     "metadata": {},
     "output_type": "execute_result"
    }
   ],
   "source": [
    "# queries for backpacking in India\n",
    "chat_similarity.chat_thread_similar_queries['Backpacking in India\\'s Beauty']['queries']"
   ]
  },
  {
   "cell_type": "markdown",
   "id": "8d5eb459-c3c5-42d3-8880-2621ade36c14",
   "metadata": {},
   "source": []
  },
  {
   "cell_type": "code",
   "execution_count": 6,
   "id": "883e3f8a-fd5a-494a-aa14-aba052827539",
   "metadata": {},
   "outputs": [
    {
     "data": {
      "application/vnd.jupyter.widget-view+json": {
       "model_id": "c92b004c778a48e49b314af93fa27697",
       "version_major": 2,
       "version_minor": 0
      },
      "text/plain": [
       "  0%|          | 0/8 [00:00<?, ?it/s]"
      ]
     },
     "metadata": {},
     "output_type": "display_data"
    }
   ],
   "source": [
    "# now that the embeddings have been generated, we need to prepare it to be fed to FAISS\n",
    "chat_similarity.prepare_embeddings_for_faiss()"
   ]
  },
  {
   "cell_type": "code",
   "execution_count": 7,
   "id": "0a805f1a-791f-4492-91bb-6fc523dfa284",
   "metadata": {},
   "outputs": [],
   "source": [
    "# Create a vector DB for similar queries using FAISS\n",
    "faiss_index = QuerySimilaritySearch(chat_similarity.embedding_matrix,chat_similarity.index_mapping,'cosine_similarity')\n",
    "# going with a flat cosine-similarity index. Can switch to hnsw when required "
   ]
  },
  {
   "cell_type": "markdown",
   "id": "b090d6cf-eeb2-449b-9ea5-95ba2fcaae7c",
   "metadata": {},
   "source": [
    "### Testing"
   ]
  },
  {
   "cell_type": "markdown",
   "id": "1147f77f-f679-4212-a199-1fcd810b355e",
   "metadata": {},
   "source": [
    "The following cells will test the model's predictions. Please note a line is printed before retuning the chat-thread.\n",
    "This line informs the user how many candidates were returned by the high recall model, before sending it to the high precision model"
   ]
  },
  {
   "cell_type": "code",
   "execution_count": 8,
   "id": "0181b304-ceb4-4ad4-829b-a54d87eba297",
   "metadata": {},
   "outputs": [
    {
     "name": "stdout",
     "output_type": "stream",
     "text": [
      "Movie Recommendations Assistant is the single candidate\n"
     ]
    },
    {
     "data": {
      "text/plain": [
       "'Movie Recommendations Assistant'"
      ]
     },
     "execution_count": 8,
     "metadata": {},
     "output_type": "execute_result"
    }
   ],
   "source": [
    "user_query = '''I want to watch a movie tonight''' # Expected Output : Movie Recommendations Assistant\n",
    "similar_chat_titles = chat_similarity.get_similar_chats(user_query,faiss_index)\n",
    "chat_similarity.return_most_similar_chat(user_query,similar_chat_titles)"
   ]
  },
  {
   "cell_type": "code",
   "execution_count": 9,
   "id": "53f9f972-de37-4537-8856-155e1d0a1280",
   "metadata": {},
   "outputs": [
    {
     "name": "stdout",
     "output_type": "stream",
     "text": [
      "multiple candidate : ['International Travel', \"Backpacking in India's Beauty\"]\n"
     ]
    },
    {
     "data": {
      "application/vnd.jupyter.widget-view+json": {
       "model_id": "be238a7531d14d218aa6bb79025e0d18",
       "version_major": 2,
       "version_minor": 0
      },
      "text/plain": [
       "  0%|          | 0/2 [00:00<?, ?it/s]"
      ]
     },
     "metadata": {},
     "output_type": "display_data"
    },
    {
     "data": {
      "text/plain": [
       "'International Travel'"
      ]
     },
     "execution_count": 9,
     "metadata": {},
     "output_type": "execute_result"
    }
   ],
   "source": [
    "user_query = '''Help me plan a trip''' # Expected Output : Backpacking in India's Beauty\n",
    "similar_chat_titles = chat_similarity.get_similar_chats(user_query,faiss_index)\n",
    "chat_similarity.return_most_similar_chat(user_query,similar_chat_titles)"
   ]
  },
  {
   "cell_type": "code",
   "execution_count": 10,
   "id": "e37261db-7c72-4ab2-8079-444abfc8135d",
   "metadata": {},
   "outputs": [
    {
     "name": "stdout",
     "output_type": "stream",
     "text": [
      "multiple candidate : ['International Travel', \"Backpacking in India's Beauty\"]\n"
     ]
    },
    {
     "data": {
      "application/vnd.jupyter.widget-view+json": {
       "model_id": "2d4d3cf14579499d98b3c838ffe2c106",
       "version_major": 2,
       "version_minor": 0
      },
      "text/plain": [
       "  0%|          | 0/2 [00:00<?, ?it/s]"
      ]
     },
     "metadata": {},
     "output_type": "display_data"
    },
    {
     "data": {
      "text/plain": [
       "'International Travel'"
      ]
     },
     "execution_count": 10,
     "metadata": {},
     "output_type": "execute_result"
    }
   ],
   "source": [
    "user_query = '''Help me plan an international trip''' # Expected Output : International Travel\n",
    "similar_chat_titles = chat_similarity.get_similar_chats(user_query,faiss_index)\n",
    "chat_similarity.return_most_similar_chat(user_query,similar_chat_titles)"
   ]
  },
  {
   "cell_type": "code",
   "execution_count": 11,
   "id": "78141085-f4b8-48d0-bc7d-1776c7a696f9",
   "metadata": {},
   "outputs": [
    {
     "name": "stdout",
     "output_type": "stream",
     "text": [
      "multiple candidate : ['International Travel', \"Backpacking in India's Beauty\"]\n"
     ]
    },
    {
     "data": {
      "application/vnd.jupyter.widget-view+json": {
       "model_id": "dff9d99b7673473186f9c485000d4419",
       "version_major": 2,
       "version_minor": 0
      },
      "text/plain": [
       "  0%|          | 0/2 [00:00<?, ?it/s]"
      ]
     },
     "metadata": {},
     "output_type": "display_data"
    },
    {
     "data": {
      "text/plain": [
       "'International Travel'"
      ]
     },
     "execution_count": 11,
     "metadata": {},
     "output_type": "execute_result"
    }
   ],
   "source": [
    "user_query = '''Plan an iteniary for Hungary''' # Expected Output : International Travel\n",
    "similar_chat_titles = chat_similarity.get_similar_chats(user_query,faiss_index)\n",
    "chat_similarity.return_most_similar_chat(user_query,similar_chat_titles)"
   ]
  },
  {
   "cell_type": "code",
   "execution_count": 13,
   "id": "5f954901-a770-4468-ab6f-8b94a184a175",
   "metadata": {},
   "outputs": [
    {
     "name": "stdout",
     "output_type": "stream",
     "text": [
      "multiple candidate : ['Resume Modification - Consulting/Marketing', 'Cover Letter Assistance Request']\n"
     ]
    },
    {
     "data": {
      "application/vnd.jupyter.widget-view+json": {
       "model_id": "b7e62e7dd0f245d4a723788ff1876910",
       "version_major": 2,
       "version_minor": 0
      },
      "text/plain": [
       "  0%|          | 0/2 [00:00<?, ?it/s]"
      ]
     },
     "metadata": {},
     "output_type": "display_data"
    },
    {
     "data": {
      "text/plain": [
       "'Resume Modification - Consulting/Marketing'"
      ]
     },
     "execution_count": 13,
     "metadata": {},
     "output_type": "execute_result"
    }
   ],
   "source": [
    "user_query = '''Help me modify my CV''' # expected output: Resume Modification - Consulting/Marketing\n",
    "similar_chat_titles = chat_similarity.get_similar_chats(user_query,faiss_index)\n",
    "chat_similarity.return_most_similar_chat(user_query,similar_chat_titles)"
   ]
  },
  {
   "cell_type": "code",
   "execution_count": 15,
   "id": "63536c62-44dd-4646-910a-954d812495ca",
   "metadata": {},
   "outputs": [
    {
     "name": "stdout",
     "output_type": "stream",
     "text": [
      "multiple candidate : ['Resume Modification - Consulting/Marketing', 'Cover Letter Assistance Request']\n"
     ]
    },
    {
     "data": {
      "application/vnd.jupyter.widget-view+json": {
       "model_id": "fa8d7100e7484861a85271f72b81dfee",
       "version_major": 2,
       "version_minor": 0
      },
      "text/plain": [
       "  0%|          | 0/2 [00:00<?, ?it/s]"
      ]
     },
     "metadata": {},
     "output_type": "display_data"
    },
    {
     "data": {
      "text/plain": [
       "'Cover Letter Assistance Request'"
      ]
     },
     "execution_count": 15,
     "metadata": {},
     "output_type": "execute_result"
    }
   ],
   "source": [
    "user_query = '''Help me modify my cover letter''' # expected output: Cover Letter Assistance Request\n",
    "similar_chat_titles = chat_similarity.get_similar_chats(user_query,faiss_index)\n",
    "chat_similarity.return_most_similar_chat(user_query,similar_chat_titles)"
   ]
  },
  {
   "cell_type": "code",
   "execution_count": 16,
   "id": "29d75b38-3ce4-43fc-b5a3-1e200fb2f362",
   "metadata": {},
   "outputs": [
    {
     "name": "stdout",
     "output_type": "stream",
     "text": [
      "Help Find Missing Beagle is the single candidate\n"
     ]
    },
    {
     "data": {
      "text/plain": [
       "'Help Find Missing Beagle'"
      ]
     },
     "execution_count": 16,
     "metadata": {},
     "output_type": "execute_result"
    }
   ],
   "source": [
    "user_query = '''My cat is missing since the past week''' # expected output: Help Find Missing Beagle\n",
    "similar_chat_titles = chat_similarity.get_similar_chats(user_query,faiss_index)\n",
    "chat_similarity.return_most_similar_chat(user_query,similar_chat_titles)"
   ]
  },
  {
   "cell_type": "code",
   "execution_count": 17,
   "id": "f17f541a-f036-43ad-8559-44c2b6d979cf",
   "metadata": {},
   "outputs": [
    {
     "name": "stdout",
     "output_type": "stream",
     "text": [
      "Backpacking in India's Beauty is the single candidate\n"
     ]
    },
    {
     "data": {
      "text/plain": [
       "\"Backpacking in India's Beauty\""
      ]
     },
     "execution_count": 17,
     "metadata": {},
     "output_type": "execute_result"
    }
   ],
   "source": [
    "user_query = '''What are the trekking options around bangalore''' # expected output: \"Backpacking in India's Beauty\"\n",
    "similar_chat_titles = chat_similarity.get_similar_chats(user_query,faiss_index)\n",
    "chat_similarity.return_most_similar_chat(user_query,similar_chat_titles)"
   ]
  },
  {
   "cell_type": "code",
   "execution_count": 18,
   "id": "aea67ee1-f414-46fd-83ad-aafde2f4d588",
   "metadata": {},
   "outputs": [
    {
     "name": "stdout",
     "output_type": "stream",
     "text": [
      "Backpacking in India's Beauty is the single candidate\n"
     ]
    },
    {
     "data": {
      "text/plain": [
       "\"Backpacking in India's Beauty\""
      ]
     },
     "execution_count": 18,
     "metadata": {},
     "output_type": "execute_result"
    }
   ],
   "source": [
    "user_query = '''I want to play rugby''' # expected output: None\n",
    "similar_chat_titles = chat_similarity.get_similar_chats(user_query,faiss_index)\n",
    "chat_similarity.return_most_similar_chat(user_query,similar_chat_titles)"
   ]
  },
  {
   "cell_type": "code",
   "execution_count": 19,
   "id": "191ec964-5a61-429a-ac15-0d34a3112d45",
   "metadata": {},
   "outputs": [
    {
     "name": "stdout",
     "output_type": "stream",
     "text": [
      "No chat threads are similar\n"
     ]
    },
    {
     "data": {
      "text/plain": [
       "'\\nThis query can be assigned to Center Aligned Table as I was using that thread to create latex tables\\nHowever, as there was no python code anywhere in the thread, the model fails to get this right\\n'"
      ]
     },
     "execution_count": 19,
     "metadata": {},
     "output_type": "execute_result"
    }
   ],
   "source": [
    "user_query = '''Convert the following python function into an equation in latex: \n",
    "                \n",
    "                def quadratic(x,y):\n",
    "                    return x^2 + (2*x*y) + y^2\n",
    "                '''\n",
    "similar_chat_titles = chat_similarity.get_similar_chats(user_query,faiss_index)\n",
    "chat_similarity.return_most_similar_chat(user_query,similar_chat_titles)\n",
    "'''\n",
    "This query can be assigned to Center Aligned Table as I was using that thread to create latex tables\n",
    "However, as there was no python code anywhere in the thread, the model fails to get this right\n",
    "'''"
   ]
  },
  {
   "cell_type": "code",
   "execution_count": 20,
   "id": "b3638e3a-b8f0-487b-9593-3155b1993195",
   "metadata": {},
   "outputs": [
    {
     "name": "stdout",
     "output_type": "stream",
     "text": [
      "Center Aligned Table is the single candidate\n"
     ]
    },
    {
     "data": {
      "text/plain": [
       "'\\nThis query is correctly assigned to  Center Aligned Table as I was using that thread to create latex tables\\n'"
      ]
     },
     "execution_count": 20,
     "metadata": {},
     "output_type": "execute_result"
    }
   ],
   "source": [
    "user_query = '''Format the my equation into latex'''\n",
    "similar_chat_titles = chat_similarity.get_similar_chats(user_query,faiss_index)\n",
    "chat_similarity.return_most_similar_chat(user_query,similar_chat_titles)\n",
    "'''\n",
    "This query is correctly assigned to  Center Aligned Table as I was using that thread to create latex tables\n",
    "'''"
   ]
  },
  {
   "cell_type": "code",
   "execution_count": 21,
   "id": "54061b14-0851-4b74-8e35-dc8dff2ec358",
   "metadata": {},
   "outputs": [
    {
     "name": "stdout",
     "output_type": "stream",
     "text": [
      "multiple candidate : ['International Travel', \"Backpacking in India's Beauty\"]\n"
     ]
    },
    {
     "data": {
      "application/vnd.jupyter.widget-view+json": {
       "model_id": "3ecf6c1cc42b45589efa6ff335697ce9",
       "version_major": 2,
       "version_minor": 0
      },
      "text/plain": [
       "  0%|          | 0/2 [00:00<?, ?it/s]"
      ]
     },
     "metadata": {},
     "output_type": "display_data"
    },
    {
     "data": {
      "text/plain": [
       "\"\\nExpected Output : International Travel. Conflicting between 'International Travel' and Backpacking in India's Beauty\\nHowever, it makes sense to classify this under international travel. Another valid response would be None\\n\""
      ]
     },
     "execution_count": 21,
     "metadata": {},
     "output_type": "execute_result"
    }
   ],
   "source": [
    "user_query = '''Where should I do my Scuba from? Andamans or Ko Tao\n",
    "                '''\n",
    "similar_chat_titles = chat_similarity.get_similar_chats(user_query,faiss_index)\n",
    "chat_similarity.return_most_similar_chat(user_query,similar_chat_titles)\n",
    "\n",
    "'''\n",
    "Expected Output : International Travel. Conflicting between 'International Travel' and Backpacking in India's Beauty\n",
    "However, it makes sense to classify this under international travel. Another valid response would be None\n",
    "'''\n"
   ]
  },
  {
   "cell_type": "code",
   "execution_count": 22,
   "id": "1ec1daf9-d852-4070-967b-90b0318382de",
   "metadata": {},
   "outputs": [
    {
     "name": "stdout",
     "output_type": "stream",
     "text": [
      "multiple candidate : ['International Travel', \"Backpacking in India's Beauty\", 'Cover Letter Assistance Request']\n"
     ]
    },
    {
     "data": {
      "application/vnd.jupyter.widget-view+json": {
       "model_id": "4871bac6492a4cc3ad139c4323c5930c",
       "version_major": 2,
       "version_minor": 0
      },
      "text/plain": [
       "  0%|          | 0/3 [00:00<?, ?it/s]"
      ]
     },
     "metadata": {},
     "output_type": "display_data"
    },
    {
     "data": {
      "text/plain": [
       "\"\\nExpected Output : International Travel. Conflicting between 'International Travel' and Backpacking in India's Beauty\\nHowever, it makes sense to classify this under international travel as the query mention's the world\\n\""
      ]
     },
     "execution_count": 22,
     "metadata": {},
     "output_type": "execute_result"
    }
   ],
   "source": [
    "user_query = '''Which are the best Safari spots in the world''' # Expected Output : International Travel \n",
    "similar_chat_titles = chat_similarity.get_similar_chats(user_query,faiss_index)\n",
    "chat_similarity.return_most_similar_chat(user_query,similar_chat_titles)\n",
    "'''\n",
    "Expected Output : International Travel. Conflicting between 'International Travel' and Backpacking in India's Beauty\n",
    "However, it makes sense to classify this under international travel as the query mention's the world\n",
    "'''\n"
   ]
  },
  {
   "cell_type": "code",
   "execution_count": 23,
   "id": "fc3ea2b4-709c-4610-8b50-ad3b6c1cf1e2",
   "metadata": {},
   "outputs": [
    {
     "name": "stdout",
     "output_type": "stream",
     "text": [
      "Help Find Missing Beagle is the single candidate\n"
     ]
    },
    {
     "data": {
      "text/plain": [
       "'\\nAnimal communicators assist in finding missing dogs\\n'"
      ]
     },
     "execution_count": 23,
     "metadata": {},
     "output_type": "execute_result"
    }
   ],
   "source": [
    "user_query = '''Tell me more about animal communicators'''\n",
    "similar_chat_titles = chat_similarity.get_similar_chats(user_query,faiss_index)\n",
    "chat_similarity.return_most_similar_chat(user_query,similar_chat_titles)\n",
    "'''\n",
    "Animal communicators assist in finding missing dogs\n",
    "'''"
   ]
  },
  {
   "cell_type": "markdown",
   "id": "1a0f7d9f-85ac-46b3-bf8f-3b0192139d3c",
   "metadata": {},
   "source": [
    "### Improvements & exploration"
   ]
  },
  {
   "cell_type": "markdown",
   "id": "7886551c-38e9-44f9-90d4-65198f5cb32e",
   "metadata": {},
   "source": [
    "1. experiment with passing ChatSimilarity.relevence_comparision_prompt to the system message prompt\n",
    "2. Prompts can be optimized to run on smaller models?\n",
    "3. Found an interesting example in [OpenAI's codebook repo](https://github.com/openai/openai-cookbook/blob/main/examples/Semantic_text_search_using_embeddings.ipynb)\n",
    "4. [Using Cross encoders for reranking](https://weaviate.io/blog/cross-encoders-as-reranker)"
   ]
  },
  {
   "cell_type": "code",
   "execution_count": null,
   "id": "8fd14876-b0d9-4b94-bdaa-bcc81d40a288",
   "metadata": {},
   "outputs": [],
   "source": []
  }
 ],
 "metadata": {
  "kernelspec": {
   "display_name": "openai",
   "language": "python",
   "name": "openai"
  },
  "language_info": {
   "codemirror_mode": {
    "name": "ipython",
    "version": 3
   },
   "file_extension": ".py",
   "mimetype": "text/x-python",
   "name": "python",
   "nbconvert_exporter": "python",
   "pygments_lexer": "ipython3",
   "version": "3.10.0"
  },
  "widgets": {
   "application/vnd.jupyter.widget-state+json": {
    "state": {
     "016ffee7f7e8494bb5f1f25e76b7f5c1": {
      "model_module": "@jupyter-widgets/controls",
      "model_module_version": "2.0.0",
      "model_name": "HTMLModel",
      "state": {
       "layout": "IPY_MODEL_d5537cb8c4c54f619521dc0f6a6ac3dd",
       "style": "IPY_MODEL_9f87c300c45e4519a1052c3b01a6cab1",
       "value": " 8/8 [00:00&lt;00:00, 309.55it/s]"
      }
     },
     "0203ec6576c54a1c91b512cc15dc1b06": {
      "model_module": "@jupyter-widgets/base",
      "model_module_version": "2.0.0",
      "model_name": "LayoutModel",
      "state": {}
     },
     "0cf9dfecc217400db774321b7233438a": {
      "model_module": "@jupyter-widgets/base",
      "model_module_version": "2.0.0",
      "model_name": "LayoutModel",
      "state": {}
     },
     "0facf38b81b845e1b2f6af595e4fdebc": {
      "model_module": "@jupyter-widgets/controls",
      "model_module_version": "2.0.0",
      "model_name": "HTMLStyleModel",
      "state": {
       "description_width": "",
       "font_size": null,
       "text_color": null
      }
     },
     "129e4728e3e142b583bccd757a8a9f51": {
      "model_module": "@jupyter-widgets/base",
      "model_module_version": "2.0.0",
      "model_name": "LayoutModel",
      "state": {}
     },
     "12c4b410aae24f17abe6ce81a7e83301": {
      "model_module": "@jupyter-widgets/base",
      "model_module_version": "2.0.0",
      "model_name": "LayoutModel",
      "state": {}
     },
     "156a7c8a52e349f79ad717060a9ff4ef": {
      "model_module": "@jupyter-widgets/base",
      "model_module_version": "2.0.0",
      "model_name": "LayoutModel",
      "state": {}
     },
     "1da46f59838d47ce90108836eb71539b": {
      "model_module": "@jupyter-widgets/controls",
      "model_module_version": "2.0.0",
      "model_name": "HTMLModel",
      "state": {
       "layout": "IPY_MODEL_41a6212c0a7941b7809f43e264801c1d",
       "style": "IPY_MODEL_f87d8e49a1254e3c99268fbfbd19c6a0",
       "value": "100%"
      }
     },
     "254e9165ee8b4a769a5453023011501d": {
      "model_module": "@jupyter-widgets/controls",
      "model_module_version": "2.0.0",
      "model_name": "HTMLStyleModel",
      "state": {
       "description_width": "",
       "font_size": null,
       "text_color": null
      }
     },
     "29ff27745be44c0c8b10c1cd34033efc": {
      "model_module": "@jupyter-widgets/controls",
      "model_module_version": "2.0.0",
      "model_name": "FloatProgressModel",
      "state": {
       "bar_style": "success",
       "layout": "IPY_MODEL_e39dfa54e13b40f18d34a9db18275daf",
       "max": 8,
       "style": "IPY_MODEL_c0769ccc4d8048b6a92419b0a016299d",
       "value": 8
      }
     },
     "2b58ccb663784f22a4995c644359c347": {
      "model_module": "@jupyter-widgets/base",
      "model_module_version": "2.0.0",
      "model_name": "LayoutModel",
      "state": {}
     },
     "2d2f7c77ca1845e489d583178a2ef613": {
      "model_module": "@jupyter-widgets/controls",
      "model_module_version": "2.0.0",
      "model_name": "ProgressStyleModel",
      "state": {
       "description_width": ""
      }
     },
     "2d4d3cf14579499d98b3c838ffe2c106": {
      "model_module": "@jupyter-widgets/controls",
      "model_module_version": "2.0.0",
      "model_name": "HBoxModel",
      "state": {
       "children": [
        "IPY_MODEL_2ec8c42ab54646308007cdba25eb8c22",
        "IPY_MODEL_db1cf0b17289462380022cd400197dcf",
        "IPY_MODEL_f0a51131d01e422c940d969d83717a8a"
       ],
       "layout": "IPY_MODEL_12c4b410aae24f17abe6ce81a7e83301"
      }
     },
     "2e512e576b454b988b02896f29d105b7": {
      "model_module": "@jupyter-widgets/base",
      "model_module_version": "2.0.0",
      "model_name": "LayoutModel",
      "state": {}
     },
     "2ec8c42ab54646308007cdba25eb8c22": {
      "model_module": "@jupyter-widgets/controls",
      "model_module_version": "2.0.0",
      "model_name": "HTMLModel",
      "state": {
       "layout": "IPY_MODEL_0cf9dfecc217400db774321b7233438a",
       "style": "IPY_MODEL_725b994b39384b31bfdffa416feb2c99",
       "value": "100%"
      }
     },
     "2f8a4a246aa046d5909113e6d3d80586": {
      "model_module": "@jupyter-widgets/controls",
      "model_module_version": "2.0.0",
      "model_name": "ProgressStyleModel",
      "state": {
       "description_width": ""
      }
     },
     "3182ca9f71d04bcdb4697669697bacab": {
      "model_module": "@jupyter-widgets/controls",
      "model_module_version": "2.0.0",
      "model_name": "HTMLStyleModel",
      "state": {
       "description_width": "",
       "font_size": null,
       "text_color": null
      }
     },
     "376bb90dd7f241d6a767e42beb363645": {
      "model_module": "@jupyter-widgets/base",
      "model_module_version": "2.0.0",
      "model_name": "LayoutModel",
      "state": {}
     },
     "379ddb7d133a434e98c089bd57643625": {
      "model_module": "@jupyter-widgets/controls",
      "model_module_version": "2.0.0",
      "model_name": "HTMLStyleModel",
      "state": {
       "description_width": "",
       "font_size": null,
       "text_color": null
      }
     },
     "392598409b03459d9ec31b8afe8fb0d4": {
      "model_module": "@jupyter-widgets/controls",
      "model_module_version": "2.0.0",
      "model_name": "HTMLModel",
      "state": {
       "layout": "IPY_MODEL_e485c738bf7c4883988ac6f0a93bd166",
       "style": "IPY_MODEL_c6fa141a93e7425ead2823d2156ae0da",
       "value": " 2/2 [00:00&lt;00:00, 73.99it/s]"
      }
     },
     "3aee7e1c0933449da380d8e130a9ede9": {
      "model_module": "@jupyter-widgets/controls",
      "model_module_version": "2.0.0",
      "model_name": "HBoxModel",
      "state": {
       "children": [
        "IPY_MODEL_f3bff018e86c4db997a4a326a7decb94",
        "IPY_MODEL_3b6fc8bc4e0d434982c1ae3e6e68be2a",
        "IPY_MODEL_7b2d523e314d4275a7eeb7a3943c67cc"
       ],
       "layout": "IPY_MODEL_2b58ccb663784f22a4995c644359c347"
      }
     },
     "3b6fc8bc4e0d434982c1ae3e6e68be2a": {
      "model_module": "@jupyter-widgets/controls",
      "model_module_version": "2.0.0",
      "model_name": "FloatProgressModel",
      "state": {
       "bar_style": "success",
       "layout": "IPY_MODEL_129e4728e3e142b583bccd757a8a9f51",
       "max": 8,
       "style": "IPY_MODEL_a0b82fd0b77a4fed9b6adb122f8e699d",
       "value": 8
      }
     },
     "3ecf6c1cc42b45589efa6ff335697ce9": {
      "model_module": "@jupyter-widgets/controls",
      "model_module_version": "2.0.0",
      "model_name": "HBoxModel",
      "state": {
       "children": [
        "IPY_MODEL_8a866730391640c2a86ab2b0b6a39f2e",
        "IPY_MODEL_8df3c74379cb4957aa4dc7e3704ae735",
        "IPY_MODEL_888b7f2d0fc540e095ce76dec936e9dd"
       ],
       "layout": "IPY_MODEL_79ea68c5b8184c9e967f56707f1df7d4"
      }
     },
     "4102065815224137b50922ce3cc42dc1": {
      "model_module": "@jupyter-widgets/base",
      "model_module_version": "2.0.0",
      "model_name": "LayoutModel",
      "state": {}
     },
     "41a6212c0a7941b7809f43e264801c1d": {
      "model_module": "@jupyter-widgets/base",
      "model_module_version": "2.0.0",
      "model_name": "LayoutModel",
      "state": {}
     },
     "4309c7e7ddac4848aec758e60188d5c4": {
      "model_module": "@jupyter-widgets/controls",
      "model_module_version": "2.0.0",
      "model_name": "HTMLModel",
      "state": {
       "layout": "IPY_MODEL_0203ec6576c54a1c91b512cc15dc1b06",
       "style": "IPY_MODEL_fdb3a81c6d6f4de887bce593213d9d6e",
       "value": " 3/3 [00:00&lt;00:00, 96.98it/s]"
      }
     },
     "4871bac6492a4cc3ad139c4323c5930c": {
      "model_module": "@jupyter-widgets/controls",
      "model_module_version": "2.0.0",
      "model_name": "HBoxModel",
      "state": {
       "children": [
        "IPY_MODEL_9fb4d2de20e14d858bd784dacceb45a6",
        "IPY_MODEL_b932b508efd5449c9d09add20ab836a6",
        "IPY_MODEL_4309c7e7ddac4848aec758e60188d5c4"
       ],
       "layout": "IPY_MODEL_8d01bdc0bafc43f6ab1706920b49f5ec"
      }
     },
     "491ea744c7f741bb95e5c1205d1c9806": {
      "model_module": "@jupyter-widgets/controls",
      "model_module_version": "2.0.0",
      "model_name": "HTMLStyleModel",
      "state": {
       "description_width": "",
       "font_size": null,
       "text_color": null
      }
     },
     "4bc9a3a038ab4108ab72ebdce799ea83": {
      "model_module": "@jupyter-widgets/base",
      "model_module_version": "2.0.0",
      "model_name": "LayoutModel",
      "state": {}
     },
     "4e359e627a8f4a1a980bc488890dc740": {
      "model_module": "@jupyter-widgets/controls",
      "model_module_version": "2.0.0",
      "model_name": "FloatProgressModel",
      "state": {
       "bar_style": "success",
       "layout": "IPY_MODEL_4faa25c458d343a0a5b686cca046a47c",
       "max": 2,
       "style": "IPY_MODEL_568bf8bcfaa64e099149bf11cf5254f7",
       "value": 2
      }
     },
     "4e616dea1fd34224b91fa940b8a5502e": {
      "model_module": "@jupyter-widgets/controls",
      "model_module_version": "2.0.0",
      "model_name": "HTMLModel",
      "state": {
       "layout": "IPY_MODEL_156a7c8a52e349f79ad717060a9ff4ef",
       "style": "IPY_MODEL_e02c386ea1524fe899629b1e59db117d",
       "value": " 2/2 [00:00&lt;00:00, 84.98it/s]"
      }
     },
     "4faa25c458d343a0a5b686cca046a47c": {
      "model_module": "@jupyter-widgets/base",
      "model_module_version": "2.0.0",
      "model_name": "LayoutModel",
      "state": {}
     },
     "50dd30d283f54459b27d5c8d38fd690e": {
      "model_module": "@jupyter-widgets/controls",
      "model_module_version": "2.0.0",
      "model_name": "HTMLStyleModel",
      "state": {
       "description_width": "",
       "font_size": null,
       "text_color": null
      }
     },
     "5631e94dacaf438f8ccfaefc813d1436": {
      "model_module": "@jupyter-widgets/base",
      "model_module_version": "2.0.0",
      "model_name": "LayoutModel",
      "state": {}
     },
     "568bf8bcfaa64e099149bf11cf5254f7": {
      "model_module": "@jupyter-widgets/controls",
      "model_module_version": "2.0.0",
      "model_name": "ProgressStyleModel",
      "state": {
       "description_width": ""
      }
     },
     "5bb5f03bed774c568ba4b5db2779ad84": {
      "model_module": "@jupyter-widgets/base",
      "model_module_version": "2.0.0",
      "model_name": "LayoutModel",
      "state": {}
     },
     "5ce990ecb4514018983b24bffd3a5d5d": {
      "model_module": "@jupyter-widgets/base",
      "model_module_version": "2.0.0",
      "model_name": "LayoutModel",
      "state": {}
     },
     "6534515096024fb98d3e3ee6db3d471e": {
      "model_module": "@jupyter-widgets/base",
      "model_module_version": "2.0.0",
      "model_name": "LayoutModel",
      "state": {}
     },
     "678d6e9d1ea7423c866ad58bf4b43793": {
      "model_module": "@jupyter-widgets/base",
      "model_module_version": "2.0.0",
      "model_name": "LayoutModel",
      "state": {}
     },
     "68e429614b9f4e0ca8f674dcc3590614": {
      "model_module": "@jupyter-widgets/base",
      "model_module_version": "2.0.0",
      "model_name": "LayoutModel",
      "state": {}
     },
     "6a286fb7469442629d1af612bb9f9c6a": {
      "model_module": "@jupyter-widgets/controls",
      "model_module_version": "2.0.0",
      "model_name": "HBoxModel",
      "state": {
       "children": [
        "IPY_MODEL_ffbbc7d8c6114412a3065b3f410c60bc",
        "IPY_MODEL_9a4529fc744e4d63899f31b3be77fd6b",
        "IPY_MODEL_91901056dbc744989e12c246595a2fe0"
       ],
       "layout": "IPY_MODEL_eacb3e18c20a49adac1afbaead99abc4"
      }
     },
     "6a350da301514ef29dc7152fab280510": {
      "model_module": "@jupyter-widgets/controls",
      "model_module_version": "2.0.0",
      "model_name": "HTMLStyleModel",
      "state": {
       "description_width": "",
       "font_size": null,
       "text_color": null
      }
     },
     "6b634f6e387f4bf78680d603cd88cebe": {
      "model_module": "@jupyter-widgets/controls",
      "model_module_version": "2.0.0",
      "model_name": "FloatProgressModel",
      "state": {
       "bar_style": "success",
       "layout": "IPY_MODEL_4bc9a3a038ab4108ab72ebdce799ea83",
       "max": 2,
       "style": "IPY_MODEL_d9adf750990341679bc5bcc177bb8d63",
       "value": 2
      }
     },
     "6e6e7755e9d54096a12216c5c3779447": {
      "model_module": "@jupyter-widgets/base",
      "model_module_version": "2.0.0",
      "model_name": "LayoutModel",
      "state": {}
     },
     "6fa9abd2d4fa45dfbc3b20c06e851dd1": {
      "model_module": "@jupyter-widgets/controls",
      "model_module_version": "2.0.0",
      "model_name": "ProgressStyleModel",
      "state": {
       "description_width": ""
      }
     },
     "71eb0810b28146dea2d0dc17cf12989a": {
      "model_module": "@jupyter-widgets/base",
      "model_module_version": "2.0.0",
      "model_name": "LayoutModel",
      "state": {}
     },
     "725b994b39384b31bfdffa416feb2c99": {
      "model_module": "@jupyter-widgets/controls",
      "model_module_version": "2.0.0",
      "model_name": "HTMLStyleModel",
      "state": {
       "description_width": "",
       "font_size": null,
       "text_color": null
      }
     },
     "79ea68c5b8184c9e967f56707f1df7d4": {
      "model_module": "@jupyter-widgets/base",
      "model_module_version": "2.0.0",
      "model_name": "LayoutModel",
      "state": {}
     },
     "79f3e9e8e0e74f999581ca79a0247e96": {
      "model_module": "@jupyter-widgets/controls",
      "model_module_version": "2.0.0",
      "model_name": "ProgressStyleModel",
      "state": {
       "description_width": ""
      }
     },
     "7b2d523e314d4275a7eeb7a3943c67cc": {
      "model_module": "@jupyter-widgets/controls",
      "model_module_version": "2.0.0",
      "model_name": "HTMLModel",
      "state": {
       "layout": "IPY_MODEL_a9a004d98fe14fa489a23d212eb4e1fc",
       "style": "IPY_MODEL_b54c4abff0af4c5c910174bda7489fb4",
       "value": " 8/8 [04:02&lt;00:00, 36.58s/it]"
      }
     },
     "82d7ed4ff643485792dba9af57e1dcac": {
      "model_module": "@jupyter-widgets/controls",
      "model_module_version": "2.0.0",
      "model_name": "FloatProgressModel",
      "state": {
       "bar_style": "success",
       "layout": "IPY_MODEL_c0074b9ed6944d0db145ead31dc087c0",
       "max": 2,
       "style": "IPY_MODEL_6fa9abd2d4fa45dfbc3b20c06e851dd1",
       "value": 2
      }
     },
     "84938663340f4833bb5801c07266cb26": {
      "model_module": "@jupyter-widgets/base",
      "model_module_version": "2.0.0",
      "model_name": "LayoutModel",
      "state": {}
     },
     "888b7f2d0fc540e095ce76dec936e9dd": {
      "model_module": "@jupyter-widgets/controls",
      "model_module_version": "2.0.0",
      "model_name": "HTMLModel",
      "state": {
       "layout": "IPY_MODEL_c21509a944d745cb94245f94b96249b4",
       "style": "IPY_MODEL_e2821ee3278945d2829b34b94d17a802",
       "value": " 2/2 [00:00&lt;00:00, 99.19it/s]"
      }
     },
     "8a866730391640c2a86ab2b0b6a39f2e": {
      "model_module": "@jupyter-widgets/controls",
      "model_module_version": "2.0.0",
      "model_name": "HTMLModel",
      "state": {
       "layout": "IPY_MODEL_5bb5f03bed774c568ba4b5db2779ad84",
       "style": "IPY_MODEL_254e9165ee8b4a769a5453023011501d",
       "value": "100%"
      }
     },
     "8b59d55830c04523a8b903019b044df5": {
      "model_module": "@jupyter-widgets/controls",
      "model_module_version": "2.0.0",
      "model_name": "HTMLModel",
      "state": {
       "layout": "IPY_MODEL_376bb90dd7f241d6a767e42beb363645",
       "style": "IPY_MODEL_c08c08e1332d423088948076fedbbecf",
       "value": "100%"
      }
     },
     "8caf72bea368436eae73112423e59423": {
      "model_module": "@jupyter-widgets/controls",
      "model_module_version": "2.0.0",
      "model_name": "HTMLModel",
      "state": {
       "layout": "IPY_MODEL_5ce990ecb4514018983b24bffd3a5d5d",
       "style": "IPY_MODEL_6a350da301514ef29dc7152fab280510",
       "value": "100%"
      }
     },
     "8d01bdc0bafc43f6ab1706920b49f5ec": {
      "model_module": "@jupyter-widgets/base",
      "model_module_version": "2.0.0",
      "model_name": "LayoutModel",
      "state": {}
     },
     "8df3c74379cb4957aa4dc7e3704ae735": {
      "model_module": "@jupyter-widgets/controls",
      "model_module_version": "2.0.0",
      "model_name": "FloatProgressModel",
      "state": {
       "bar_style": "success",
       "layout": "IPY_MODEL_f33f447f95384863aca1ab937110ddc6",
       "max": 2,
       "style": "IPY_MODEL_c026465aee6f4785ad0e080845c3bd49",
       "value": 2
      }
     },
     "8e67edb701ca4e999f148a462ea5238d": {
      "model_module": "@jupyter-widgets/base",
      "model_module_version": "2.0.0",
      "model_name": "LayoutModel",
      "state": {}
     },
     "91901056dbc744989e12c246595a2fe0": {
      "model_module": "@jupyter-widgets/controls",
      "model_module_version": "2.0.0",
      "model_name": "HTMLModel",
      "state": {
       "layout": "IPY_MODEL_2e512e576b454b988b02896f29d105b7",
       "style": "IPY_MODEL_3182ca9f71d04bcdb4697669697bacab",
       "value": " 2/2 [00:00&lt;00:00, 60.36it/s]"
      }
     },
     "9282940708bf4d5d998a8c1e7bb60481": {
      "model_module": "@jupyter-widgets/base",
      "model_module_version": "2.0.0",
      "model_name": "LayoutModel",
      "state": {}
     },
     "92bffd0ace4f4ab08787fa46038cfc95": {
      "model_module": "@jupyter-widgets/controls",
      "model_module_version": "2.0.0",
      "model_name": "FloatProgressModel",
      "state": {
       "bar_style": "success",
       "layout": "IPY_MODEL_b4a54e85516a4eb6a8b3f01e1e1fa687",
       "max": 2,
       "style": "IPY_MODEL_2d2f7c77ca1845e489d583178a2ef613",
       "value": 2
      }
     },
     "93d7a51998b348feaf83f836c9ee9429": {
      "model_module": "@jupyter-widgets/controls",
      "model_module_version": "2.0.0",
      "model_name": "FloatProgressModel",
      "state": {
       "bar_style": "success",
       "layout": "IPY_MODEL_952ca30f11ad4f17b74cceb5567c98fe",
       "max": 2,
       "style": "IPY_MODEL_d36eaf18899d45e182f5bb81afdcb894",
       "value": 2
      }
     },
     "952ca30f11ad4f17b74cceb5567c98fe": {
      "model_module": "@jupyter-widgets/base",
      "model_module_version": "2.0.0",
      "model_name": "LayoutModel",
      "state": {}
     },
     "96adcf83884f4e4aae2e378c80dc7b71": {
      "model_module": "@jupyter-widgets/base",
      "model_module_version": "2.0.0",
      "model_name": "LayoutModel",
      "state": {}
     },
     "9a4529fc744e4d63899f31b3be77fd6b": {
      "model_module": "@jupyter-widgets/controls",
      "model_module_version": "2.0.0",
      "model_name": "FloatProgressModel",
      "state": {
       "bar_style": "success",
       "layout": "IPY_MODEL_8e67edb701ca4e999f148a462ea5238d",
       "max": 2,
       "style": "IPY_MODEL_79f3e9e8e0e74f999581ca79a0247e96",
       "value": 2
      }
     },
     "9b4d9fd035cc4d999b7e99228e53b9f2": {
      "model_module": "@jupyter-widgets/controls",
      "model_module_version": "2.0.0",
      "model_name": "HTMLModel",
      "state": {
       "layout": "IPY_MODEL_c7621e204bee46d29f9256d923c5eb5c",
       "style": "IPY_MODEL_f7cd8dcd87294291bcf711a19adfe2e1",
       "value": "100%"
      }
     },
     "9d0e10d960ce4bb3abe062d0d12fc628": {
      "model_module": "@jupyter-widgets/controls",
      "model_module_version": "2.0.0",
      "model_name": "HTMLModel",
      "state": {
       "layout": "IPY_MODEL_5631e94dacaf438f8ccfaefc813d1436",
       "style": "IPY_MODEL_d55a59981485435e8b5b7632537edad6",
       "value": " 2/2 [00:00&lt;00:00, 62.11it/s]"
      }
     },
     "9efa7bbaf7e64850846ad0c4a1803f90": {
      "model_module": "@jupyter-widgets/controls",
      "model_module_version": "2.0.0",
      "model_name": "HTMLModel",
      "state": {
       "layout": "IPY_MODEL_68e429614b9f4e0ca8f674dcc3590614",
       "style": "IPY_MODEL_491ea744c7f741bb95e5c1205d1c9806",
       "value": "100%"
      }
     },
     "9f87c300c45e4519a1052c3b01a6cab1": {
      "model_module": "@jupyter-widgets/controls",
      "model_module_version": "2.0.0",
      "model_name": "HTMLStyleModel",
      "state": {
       "description_width": "",
       "font_size": null,
       "text_color": null
      }
     },
     "9fb4d2de20e14d858bd784dacceb45a6": {
      "model_module": "@jupyter-widgets/controls",
      "model_module_version": "2.0.0",
      "model_name": "HTMLModel",
      "state": {
       "layout": "IPY_MODEL_e419fd2f40e8491ba03fb552886372fc",
       "style": "IPY_MODEL_379ddb7d133a434e98c089bd57643625",
       "value": "100%"
      }
     },
     "a0b82fd0b77a4fed9b6adb122f8e699d": {
      "model_module": "@jupyter-widgets/controls",
      "model_module_version": "2.0.0",
      "model_name": "ProgressStyleModel",
      "state": {
       "description_width": ""
      }
     },
     "a15902d25d4b452a9aedde918e4237f4": {
      "model_module": "@jupyter-widgets/base",
      "model_module_version": "2.0.0",
      "model_name": "LayoutModel",
      "state": {}
     },
     "a9a004d98fe14fa489a23d212eb4e1fc": {
      "model_module": "@jupyter-widgets/base",
      "model_module_version": "2.0.0",
      "model_name": "LayoutModel",
      "state": {}
     },
     "a9fc75eeb8184ea89923aa98fa8371af": {
      "model_module": "@jupyter-widgets/controls",
      "model_module_version": "2.0.0",
      "model_name": "ProgressStyleModel",
      "state": {
       "description_width": ""
      }
     },
     "ae99396715ee481a975c1efb8b6e4ec1": {
      "model_module": "@jupyter-widgets/controls",
      "model_module_version": "2.0.0",
      "model_name": "HTMLModel",
      "state": {
       "layout": "IPY_MODEL_ce0835003eb2465b853287225fc3342f",
       "style": "IPY_MODEL_0facf38b81b845e1b2f6af595e4fdebc",
       "value": "100%"
      }
     },
     "b4a54e85516a4eb6a8b3f01e1e1fa687": {
      "model_module": "@jupyter-widgets/base",
      "model_module_version": "2.0.0",
      "model_name": "LayoutModel",
      "state": {}
     },
     "b54c4abff0af4c5c910174bda7489fb4": {
      "model_module": "@jupyter-widgets/controls",
      "model_module_version": "2.0.0",
      "model_name": "HTMLStyleModel",
      "state": {
       "description_width": "",
       "font_size": null,
       "text_color": null
      }
     },
     "b681a96aaa9a41189230b4bd9b5ec4c2": {
      "model_module": "@jupyter-widgets/controls",
      "model_module_version": "2.0.0",
      "model_name": "HBoxModel",
      "state": {
       "children": [
        "IPY_MODEL_ae99396715ee481a975c1efb8b6e4ec1",
        "IPY_MODEL_82d7ed4ff643485792dba9af57e1dcac",
        "IPY_MODEL_9d0e10d960ce4bb3abe062d0d12fc628"
       ],
       "layout": "IPY_MODEL_678d6e9d1ea7423c866ad58bf4b43793"
      }
     },
     "b7e62e7dd0f245d4a723788ff1876910": {
      "model_module": "@jupyter-widgets/controls",
      "model_module_version": "2.0.0",
      "model_name": "HBoxModel",
      "state": {
       "children": [
        "IPY_MODEL_8b59d55830c04523a8b903019b044df5",
        "IPY_MODEL_4e359e627a8f4a1a980bc488890dc740",
        "IPY_MODEL_d747f96bc6f24cc98bdd0f403bd217ea"
       ],
       "layout": "IPY_MODEL_96adcf83884f4e4aae2e378c80dc7b71"
      }
     },
     "b932b508efd5449c9d09add20ab836a6": {
      "model_module": "@jupyter-widgets/controls",
      "model_module_version": "2.0.0",
      "model_name": "FloatProgressModel",
      "state": {
       "bar_style": "success",
       "layout": "IPY_MODEL_ba7d96551dad4c89a47847fa48b1abce",
       "max": 3,
       "style": "IPY_MODEL_2f8a4a246aa046d5909113e6d3d80586",
       "value": 3
      }
     },
     "ba7d96551dad4c89a47847fa48b1abce": {
      "model_module": "@jupyter-widgets/base",
      "model_module_version": "2.0.0",
      "model_name": "LayoutModel",
      "state": {}
     },
     "bad524e1df214cd4897ddbea12845551": {
      "model_module": "@jupyter-widgets/base",
      "model_module_version": "2.0.0",
      "model_name": "LayoutModel",
      "state": {}
     },
     "be238a7531d14d218aa6bb79025e0d18": {
      "model_module": "@jupyter-widgets/controls",
      "model_module_version": "2.0.0",
      "model_name": "HBoxModel",
      "state": {
       "children": [
        "IPY_MODEL_8caf72bea368436eae73112423e59423",
        "IPY_MODEL_6b634f6e387f4bf78680d603cd88cebe",
        "IPY_MODEL_ddb15005862a4a0aa7526f3112f4350f"
       ],
       "layout": "IPY_MODEL_6534515096024fb98d3e3ee6db3d471e"
      }
     },
     "c0074b9ed6944d0db145ead31dc087c0": {
      "model_module": "@jupyter-widgets/base",
      "model_module_version": "2.0.0",
      "model_name": "LayoutModel",
      "state": {}
     },
     "c026465aee6f4785ad0e080845c3bd49": {
      "model_module": "@jupyter-widgets/controls",
      "model_module_version": "2.0.0",
      "model_name": "ProgressStyleModel",
      "state": {
       "description_width": ""
      }
     },
     "c0769ccc4d8048b6a92419b0a016299d": {
      "model_module": "@jupyter-widgets/controls",
      "model_module_version": "2.0.0",
      "model_name": "ProgressStyleModel",
      "state": {
       "description_width": ""
      }
     },
     "c08c08e1332d423088948076fedbbecf": {
      "model_module": "@jupyter-widgets/controls",
      "model_module_version": "2.0.0",
      "model_name": "HTMLStyleModel",
      "state": {
       "description_width": "",
       "font_size": null,
       "text_color": null
      }
     },
     "c21509a944d745cb94245f94b96249b4": {
      "model_module": "@jupyter-widgets/base",
      "model_module_version": "2.0.0",
      "model_name": "LayoutModel",
      "state": {}
     },
     "c6fa141a93e7425ead2823d2156ae0da": {
      "model_module": "@jupyter-widgets/controls",
      "model_module_version": "2.0.0",
      "model_name": "HTMLStyleModel",
      "state": {
       "description_width": "",
       "font_size": null,
       "text_color": null
      }
     },
     "c7621e204bee46d29f9256d923c5eb5c": {
      "model_module": "@jupyter-widgets/base",
      "model_module_version": "2.0.0",
      "model_name": "LayoutModel",
      "state": {}
     },
     "c92b004c778a48e49b314af93fa27697": {
      "model_module": "@jupyter-widgets/controls",
      "model_module_version": "2.0.0",
      "model_name": "HBoxModel",
      "state": {
       "children": [
        "IPY_MODEL_1da46f59838d47ce90108836eb71539b",
        "IPY_MODEL_29ff27745be44c0c8b10c1cd34033efc",
        "IPY_MODEL_016ffee7f7e8494bb5f1f25e76b7f5c1"
       ],
       "layout": "IPY_MODEL_f3598e13b8254c2480756e281a5088f1"
      }
     },
     "ce0835003eb2465b853287225fc3342f": {
      "model_module": "@jupyter-widgets/base",
      "model_module_version": "2.0.0",
      "model_name": "LayoutModel",
      "state": {}
     },
     "d36eaf18899d45e182f5bb81afdcb894": {
      "model_module": "@jupyter-widgets/controls",
      "model_module_version": "2.0.0",
      "model_name": "ProgressStyleModel",
      "state": {
       "description_width": ""
      }
     },
     "d5537cb8c4c54f619521dc0f6a6ac3dd": {
      "model_module": "@jupyter-widgets/base",
      "model_module_version": "2.0.0",
      "model_name": "LayoutModel",
      "state": {}
     },
     "d55a59981485435e8b5b7632537edad6": {
      "model_module": "@jupyter-widgets/controls",
      "model_module_version": "2.0.0",
      "model_name": "HTMLStyleModel",
      "state": {
       "description_width": "",
       "font_size": null,
       "text_color": null
      }
     },
     "d747f96bc6f24cc98bdd0f403bd217ea": {
      "model_module": "@jupyter-widgets/controls",
      "model_module_version": "2.0.0",
      "model_name": "HTMLModel",
      "state": {
       "layout": "IPY_MODEL_a15902d25d4b452a9aedde918e4237f4",
       "style": "IPY_MODEL_e3e8a22077f044d6b53fc7bfa383fa87",
       "value": " 2/2 [00:00&lt;00:00, 62.90it/s]"
      }
     },
     "d9adf750990341679bc5bcc177bb8d63": {
      "model_module": "@jupyter-widgets/controls",
      "model_module_version": "2.0.0",
      "model_name": "ProgressStyleModel",
      "state": {
       "description_width": ""
      }
     },
     "db1cf0b17289462380022cd400197dcf": {
      "model_module": "@jupyter-widgets/controls",
      "model_module_version": "2.0.0",
      "model_name": "FloatProgressModel",
      "state": {
       "bar_style": "success",
       "layout": "IPY_MODEL_4102065815224137b50922ce3cc42dc1",
       "max": 2,
       "style": "IPY_MODEL_a9fc75eeb8184ea89923aa98fa8371af",
       "value": 2
      }
     },
     "ddb15005862a4a0aa7526f3112f4350f": {
      "model_module": "@jupyter-widgets/controls",
      "model_module_version": "2.0.0",
      "model_name": "HTMLModel",
      "state": {
       "layout": "IPY_MODEL_6e6e7755e9d54096a12216c5c3779447",
       "style": "IPY_MODEL_50dd30d283f54459b27d5c8d38fd690e",
       "value": " 2/2 [00:00&lt;00:00, 94.26it/s]"
      }
     },
     "dff9d99b7673473186f9c485000d4419": {
      "model_module": "@jupyter-widgets/controls",
      "model_module_version": "2.0.0",
      "model_name": "HBoxModel",
      "state": {
       "children": [
        "IPY_MODEL_9efa7bbaf7e64850846ad0c4a1803f90",
        "IPY_MODEL_92bffd0ace4f4ab08787fa46038cfc95",
        "IPY_MODEL_392598409b03459d9ec31b8afe8fb0d4"
       ],
       "layout": "IPY_MODEL_71eb0810b28146dea2d0dc17cf12989a"
      }
     },
     "e02c386ea1524fe899629b1e59db117d": {
      "model_module": "@jupyter-widgets/controls",
      "model_module_version": "2.0.0",
      "model_name": "HTMLStyleModel",
      "state": {
       "description_width": "",
       "font_size": null,
       "text_color": null
      }
     },
     "e2821ee3278945d2829b34b94d17a802": {
      "model_module": "@jupyter-widgets/controls",
      "model_module_version": "2.0.0",
      "model_name": "HTMLStyleModel",
      "state": {
       "description_width": "",
       "font_size": null,
       "text_color": null
      }
     },
     "e39dfa54e13b40f18d34a9db18275daf": {
      "model_module": "@jupyter-widgets/base",
      "model_module_version": "2.0.0",
      "model_name": "LayoutModel",
      "state": {}
     },
     "e3e8a22077f044d6b53fc7bfa383fa87": {
      "model_module": "@jupyter-widgets/controls",
      "model_module_version": "2.0.0",
      "model_name": "HTMLStyleModel",
      "state": {
       "description_width": "",
       "font_size": null,
       "text_color": null
      }
     },
     "e419fd2f40e8491ba03fb552886372fc": {
      "model_module": "@jupyter-widgets/base",
      "model_module_version": "2.0.0",
      "model_name": "LayoutModel",
      "state": {}
     },
     "e485c738bf7c4883988ac6f0a93bd166": {
      "model_module": "@jupyter-widgets/base",
      "model_module_version": "2.0.0",
      "model_name": "LayoutModel",
      "state": {}
     },
     "eacb3e18c20a49adac1afbaead99abc4": {
      "model_module": "@jupyter-widgets/base",
      "model_module_version": "2.0.0",
      "model_name": "LayoutModel",
      "state": {}
     },
     "ed74b244feea443f92e3c3d0fe642cfd": {
      "model_module": "@jupyter-widgets/controls",
      "model_module_version": "2.0.0",
      "model_name": "HTMLStyleModel",
      "state": {
       "description_width": "",
       "font_size": null,
       "text_color": null
      }
     },
     "edd04ef6e5124f0882b369ec90efc717": {
      "model_module": "@jupyter-widgets/controls",
      "model_module_version": "2.0.0",
      "model_name": "HTMLStyleModel",
      "state": {
       "description_width": "",
       "font_size": null,
       "text_color": null
      }
     },
     "f0a51131d01e422c940d969d83717a8a": {
      "model_module": "@jupyter-widgets/controls",
      "model_module_version": "2.0.0",
      "model_name": "HTMLModel",
      "state": {
       "layout": "IPY_MODEL_bad524e1df214cd4897ddbea12845551",
       "style": "IPY_MODEL_edd04ef6e5124f0882b369ec90efc717",
       "value": " 2/2 [00:00&lt;00:00, 78.53it/s]"
      }
     },
     "f33f447f95384863aca1ab937110ddc6": {
      "model_module": "@jupyter-widgets/base",
      "model_module_version": "2.0.0",
      "model_name": "LayoutModel",
      "state": {}
     },
     "f3598e13b8254c2480756e281a5088f1": {
      "model_module": "@jupyter-widgets/base",
      "model_module_version": "2.0.0",
      "model_name": "LayoutModel",
      "state": {}
     },
     "f3bff018e86c4db997a4a326a7decb94": {
      "model_module": "@jupyter-widgets/controls",
      "model_module_version": "2.0.0",
      "model_name": "HTMLModel",
      "state": {
       "layout": "IPY_MODEL_84938663340f4833bb5801c07266cb26",
       "style": "IPY_MODEL_ed74b244feea443f92e3c3d0fe642cfd",
       "value": "100%"
      }
     },
     "f7474ad9620145d68d0c0817f1dab3cb": {
      "model_module": "@jupyter-widgets/base",
      "model_module_version": "2.0.0",
      "model_name": "LayoutModel",
      "state": {}
     },
     "f7cd8dcd87294291bcf711a19adfe2e1": {
      "model_module": "@jupyter-widgets/controls",
      "model_module_version": "2.0.0",
      "model_name": "HTMLStyleModel",
      "state": {
       "description_width": "",
       "font_size": null,
       "text_color": null
      }
     },
     "f87d8e49a1254e3c99268fbfbd19c6a0": {
      "model_module": "@jupyter-widgets/controls",
      "model_module_version": "2.0.0",
      "model_name": "HTMLStyleModel",
      "state": {
       "description_width": "",
       "font_size": null,
       "text_color": null
      }
     },
     "f8856dfb9dfb40c79eea09cac4799fa5": {
      "model_module": "@jupyter-widgets/controls",
      "model_module_version": "2.0.0",
      "model_name": "HTMLStyleModel",
      "state": {
       "description_width": "",
       "font_size": null,
       "text_color": null
      }
     },
     "fa8d7100e7484861a85271f72b81dfee": {
      "model_module": "@jupyter-widgets/controls",
      "model_module_version": "2.0.0",
      "model_name": "HBoxModel",
      "state": {
       "children": [
        "IPY_MODEL_9b4d9fd035cc4d999b7e99228e53b9f2",
        "IPY_MODEL_93d7a51998b348feaf83f836c9ee9429",
        "IPY_MODEL_4e616dea1fd34224b91fa940b8a5502e"
       ],
       "layout": "IPY_MODEL_f7474ad9620145d68d0c0817f1dab3cb"
      }
     },
     "fdb3a81c6d6f4de887bce593213d9d6e": {
      "model_module": "@jupyter-widgets/controls",
      "model_module_version": "2.0.0",
      "model_name": "HTMLStyleModel",
      "state": {
       "description_width": "",
       "font_size": null,
       "text_color": null
      }
     },
     "ffbbc7d8c6114412a3065b3f410c60bc": {
      "model_module": "@jupyter-widgets/controls",
      "model_module_version": "2.0.0",
      "model_name": "HTMLModel",
      "state": {
       "layout": "IPY_MODEL_9282940708bf4d5d998a8c1e7bb60481",
       "style": "IPY_MODEL_f8856dfb9dfb40c79eea09cac4799fa5",
       "value": "100%"
      }
     }
    },
    "version_major": 2,
    "version_minor": 0
   }
  }
 },
 "nbformat": 4,
 "nbformat_minor": 5
}
